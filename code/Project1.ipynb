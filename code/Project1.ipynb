{
 "cells": [
  {
   "cell_type": "markdown",
   "metadata": {},
   "source": [
    "<img src=\"../images/bubbles-banner.jpg\" alt=\"Exam bubbles\">"
   ]
  },
  {
   "cell_type": "markdown",
   "metadata": {},
   "source": [
    "# <span style='color:#f67088'>GA Data Science Immersive : Project 1</span>\n",
    "<span style='color:#f67088'><a href=\"http://gwyneth.butera.org\">Gwyneth Butera</a></span>\n",
    "\n",
    "<span style='color:#ce8f31'>**Prjoject description:**<br>\n",
    "For our first project, we're going to take a look at SAT and ACT scores around the United States. Suppose that the College Board - the organization that administers the SAT - seeks to improve the participation rate of its exams. Your presentation should be geared toward **non-technical** executives with the College Board and you will use, at minimum, the provided data to make recommendations about how the College Board might work to increase the participation rates of these exams.</span>\n"
   ]
  },
  {
   "cell_type": "markdown",
   "metadata": {},
   "source": [
    "### <span style='color:#32b165'>Table of contents</span>\n",
    "* <a href=\"#step1\"><span style='color:#35aca4'>Load the data and perform basic operations.</span></a>\n",
    "* <a href=\"#step2\"><span style='color:#35aca4'>Manipulate the dataframe.</span></a>\n",
    "* <a href=\"#step3\"><span style='color:#35aca4'>Visualize the data</span></a>\n",
    "* <a href=\"#step4\"><span style='color:#35aca4'>Descriptive and Inferential Statistics</span></a>\n",
    "* <a href=\"https://docs.google.com/presentation/d/1ZyA10Eq0omf7Enb6GVngixXLvuS2LEBCHtAnXqjJDNw/edit?usp=sharing\"><span style='color:#35aca4'>(WIP) Slide presentation</span></a>"
   ]
  },
  {
   "cell_type": "markdown",
   "metadata": {},
   "source": [
    " <hr>\n",
    " <a name=\"step1\"></a>\n",
    " ## <span style='color:#32b165'>I. Load the data and perform basic operations.</span>"
   ]
  },
  {
   "cell_type": "code",
   "execution_count": 1,
   "metadata": {},
   "outputs": [],
   "source": [
    "# Let's get all our helper libraries loaded first\n",
    "\n",
    "import numpy as np\n",
    "import scipy.stats as stats\n",
    "import seaborn as sns\n",
    "import matplotlib.pyplot as plt\n",
    "import pandas as pd\n",
    "import warnings\n",
    "warnings.filterwarnings('ignore')\n",
    "sns.set_style(\"whitegrid\", {'axes.grid' : False})\n",
    "\n",
    "# %config InlineBackend.figure_format = 'retina'\n",
    "%matplotlib inline"
   ]
  },
  {
   "cell_type": "markdown",
   "metadata": {},
   "source": [
    "##### <span style='color:#35aca4'>A. Load the data in using pandas.</span>\n",
    "\n",
    "<span style='color:#38a7d0'>We load the SAT and ACT data into two dataframes. We also load in state-by-state enrollment data scraped from \"governing.com\":<a href=\"http://www.governing.com/topics/education/gov-fragmented-school-districts-consolidation.html\">governing.com</a>.</span>"
   ]
  },
  {
   "cell_type": "code",
   "execution_count": 2,
   "metadata": {},
   "outputs": [],
   "source": [
    "# Read the data into DataFrames\n",
    "sat = pd.read_csv(\"../data/sat.csv\")\n",
    "act = pd.read_csv(\"../data/act.csv\")\n",
    "\n",
    "# Enrollment data was scraped from \n",
    "# http://www.governing.com/topics/education/gov-fragmented-school-districts-consolidation.html\n",
    "enroll = pd.read_csv(\"../data/enrollment.csv\")"
   ]
  },
  {
   "cell_type": "markdown",
   "metadata": {},
   "source": [
    "##### <span style='color:#35aca4'>B. Print the first few rows of each dataframe.</span>"
   ]
  },
  {
   "cell_type": "code",
   "execution_count": 3,
   "metadata": {},
   "outputs": [
    {
     "data": {
      "text/html": [
       "<div>\n",
       "<style scoped>\n",
       "    .dataframe tbody tr th:only-of-type {\n",
       "        vertical-align: middle;\n",
       "    }\n",
       "\n",
       "    .dataframe tbody tr th {\n",
       "        vertical-align: top;\n",
       "    }\n",
       "\n",
       "    .dataframe thead th {\n",
       "        text-align: right;\n",
       "    }\n",
       "</style>\n",
       "<table border=\"1\" class=\"dataframe\">\n",
       "  <thead>\n",
       "    <tr style=\"text-align: right;\">\n",
       "      <th></th>\n",
       "      <th>Unnamed: 0</th>\n",
       "      <th>State</th>\n",
       "      <th>Participation</th>\n",
       "      <th>Evidence-Based Reading and Writing</th>\n",
       "      <th>Math</th>\n",
       "      <th>Total</th>\n",
       "    </tr>\n",
       "  </thead>\n",
       "  <tbody>\n",
       "    <tr>\n",
       "      <th>0</th>\n",
       "      <td>0</td>\n",
       "      <td>Alabama</td>\n",
       "      <td>5%</td>\n",
       "      <td>593</td>\n",
       "      <td>572</td>\n",
       "      <td>1165</td>\n",
       "    </tr>\n",
       "    <tr>\n",
       "      <th>1</th>\n",
       "      <td>1</td>\n",
       "      <td>Alaska</td>\n",
       "      <td>38%</td>\n",
       "      <td>547</td>\n",
       "      <td>533</td>\n",
       "      <td>1080</td>\n",
       "    </tr>\n",
       "    <tr>\n",
       "      <th>2</th>\n",
       "      <td>2</td>\n",
       "      <td>Arizona</td>\n",
       "      <td>30%</td>\n",
       "      <td>563</td>\n",
       "      <td>553</td>\n",
       "      <td>1116</td>\n",
       "    </tr>\n",
       "  </tbody>\n",
       "</table>\n",
       "</div>"
      ],
      "text/plain": [
       "   Unnamed: 0    State Participation  Evidence-Based Reading and Writing  \\\n",
       "0           0  Alabama            5%                                 593   \n",
       "1           1   Alaska           38%                                 547   \n",
       "2           2  Arizona           30%                                 563   \n",
       "\n",
       "   Math  Total  \n",
       "0   572   1165  \n",
       "1   533   1080  \n",
       "2   553   1116  "
      ]
     },
     "execution_count": 3,
     "metadata": {},
     "output_type": "execute_result"
    }
   ],
   "source": [
    "sat.head(3)"
   ]
  },
  {
   "cell_type": "code",
   "execution_count": 4,
   "metadata": {},
   "outputs": [
    {
     "data": {
      "text/html": [
       "<div>\n",
       "<style scoped>\n",
       "    .dataframe tbody tr th:only-of-type {\n",
       "        vertical-align: middle;\n",
       "    }\n",
       "\n",
       "    .dataframe tbody tr th {\n",
       "        vertical-align: top;\n",
       "    }\n",
       "\n",
       "    .dataframe thead th {\n",
       "        text-align: right;\n",
       "    }\n",
       "</style>\n",
       "<table border=\"1\" class=\"dataframe\">\n",
       "  <thead>\n",
       "    <tr style=\"text-align: right;\">\n",
       "      <th></th>\n",
       "      <th>Unnamed: 0</th>\n",
       "      <th>State</th>\n",
       "      <th>Participation</th>\n",
       "      <th>English</th>\n",
       "      <th>Math</th>\n",
       "      <th>Reading</th>\n",
       "      <th>Science</th>\n",
       "      <th>Composite</th>\n",
       "    </tr>\n",
       "  </thead>\n",
       "  <tbody>\n",
       "    <tr>\n",
       "      <th>0</th>\n",
       "      <td>0</td>\n",
       "      <td>National</td>\n",
       "      <td>60%</td>\n",
       "      <td>20.3</td>\n",
       "      <td>20.7</td>\n",
       "      <td>21.4</td>\n",
       "      <td>21.0</td>\n",
       "      <td>21.0</td>\n",
       "    </tr>\n",
       "    <tr>\n",
       "      <th>1</th>\n",
       "      <td>1</td>\n",
       "      <td>Alabama</td>\n",
       "      <td>100%</td>\n",
       "      <td>18.9</td>\n",
       "      <td>18.4</td>\n",
       "      <td>19.7</td>\n",
       "      <td>19.4</td>\n",
       "      <td>19.2</td>\n",
       "    </tr>\n",
       "    <tr>\n",
       "      <th>2</th>\n",
       "      <td>2</td>\n",
       "      <td>Alaska</td>\n",
       "      <td>65%</td>\n",
       "      <td>18.7</td>\n",
       "      <td>19.8</td>\n",
       "      <td>20.4</td>\n",
       "      <td>19.9</td>\n",
       "      <td>19.8</td>\n",
       "    </tr>\n",
       "  </tbody>\n",
       "</table>\n",
       "</div>"
      ],
      "text/plain": [
       "   Unnamed: 0     State Participation  English  Math  Reading  Science  \\\n",
       "0           0  National           60%     20.3  20.7     21.4     21.0   \n",
       "1           1   Alabama          100%     18.9  18.4     19.7     19.4   \n",
       "2           2    Alaska           65%     18.7  19.8     20.4     19.9   \n",
       "\n",
       "   Composite  \n",
       "0       21.0  \n",
       "1       19.2  \n",
       "2       19.8  "
      ]
     },
     "execution_count": 4,
     "metadata": {},
     "output_type": "execute_result"
    }
   ],
   "source": [
    "act.head(3)"
   ]
  },
  {
   "cell_type": "markdown",
   "metadata": {},
   "source": [
    "##### <span style='color:#35aca4'>C. Describe in words what each variable (column) is.</span>"
   ]
  },
  {
   "cell_type": "markdown",
   "metadata": {
    "collapsed": true
   },
   "source": [
    "<span style='color:#38a7d0'>**For the SAT:**</span>\n",
    "\n",
    "* <span style='color:#38a7d0'>**Unamed: 0** : An index column</span>\n",
    "* <span style='color:#38a7d0'>**State**: The state being considered</span>\n",
    "* <span style='color:#38a7d0'>**Participation**: Percentage of students that took the exam</span></span>\n",
    "* <span style='color:#38a7d0'>**Evidence-Based Reading and Writing**: Average score for EBRW section (200-800)</span>\n",
    "* <span style='color:#38a7d0'>**Math**: Average score for math section (200-800)</span>\n",
    "* <span style='color:#38a7d0'>**Total**: Average combined EBRW and math score</span>\n",
    "\n",
    "<span style='color:#38a7d0'>**For the ACT:**\n",
    "\n",
    "* <span style='color:#38a7d0'>**Unamed**: An index column</span>\n",
    "* <span style='color:#38a7d0'>**State**: The state being considered</span>\n",
    "* <span style='color:#38a7d0'>**Participation**: Percentage of students that participated</span>\n",
    "* <span style='color:#38a7d0'>**English**: Average score (1-36)</span>\n",
    "* <span style='color:#38a7d0'>**Math**: Average score (1-36)</span>\n",
    "* <span style='color:#38a7d0'>**Reading**: Average score (1-36)</span>\n",
    "* <span style='color:#38a7d0'>**Science**: Average score (1-36)</span>\n",
    "* <span style='color:#38a7d0'>**Composite**: Average of composite score, where composite score is the average of the four area scores, rounded up to the nearest whole number (1-36)</span></span>\n"
   ]
  },
  {
   "cell_type": "markdown",
   "metadata": {},
   "source": [
    "##### <span style='color:#35aca4'>D. Does the data look complete? Are there any obvious issues with the observations?</span>"
   ]
  },
  {
   "cell_type": "code",
   "execution_count": 5,
   "metadata": {},
   "outputs": [
    {
     "name": "stdout",
     "output_type": "stream",
     "text": [
      "There are 0 NaNs in the dataframe.\n"
     ]
    },
    {
     "data": {
      "text/html": [
       "<div>\n",
       "<style scoped>\n",
       "    .dataframe tbody tr th:only-of-type {\n",
       "        vertical-align: middle;\n",
       "    }\n",
       "\n",
       "    .dataframe tbody tr th {\n",
       "        vertical-align: top;\n",
       "    }\n",
       "\n",
       "    .dataframe thead th {\n",
       "        text-align: right;\n",
       "    }\n",
       "</style>\n",
       "<table border=\"1\" class=\"dataframe\">\n",
       "  <thead>\n",
       "    <tr style=\"text-align: right;\">\n",
       "      <th></th>\n",
       "      <th>Unnamed: 0</th>\n",
       "      <th>English</th>\n",
       "      <th>Math</th>\n",
       "      <th>Reading</th>\n",
       "      <th>Science</th>\n",
       "      <th>Composite</th>\n",
       "    </tr>\n",
       "  </thead>\n",
       "  <tbody>\n",
       "    <tr>\n",
       "      <th>count</th>\n",
       "      <td>52.000000</td>\n",
       "      <td>52.000000</td>\n",
       "      <td>52.000000</td>\n",
       "      <td>52.000000</td>\n",
       "      <td>52.000000</td>\n",
       "      <td>52.000000</td>\n",
       "    </tr>\n",
       "    <tr>\n",
       "      <th>mean</th>\n",
       "      <td>25.500000</td>\n",
       "      <td>20.919231</td>\n",
       "      <td>21.173077</td>\n",
       "      <td>22.001923</td>\n",
       "      <td>21.040385</td>\n",
       "      <td>21.509615</td>\n",
       "    </tr>\n",
       "    <tr>\n",
       "      <th>std</th>\n",
       "      <td>15.154757</td>\n",
       "      <td>2.332132</td>\n",
       "      <td>1.963602</td>\n",
       "      <td>2.048672</td>\n",
       "      <td>3.151113</td>\n",
       "      <td>2.002083</td>\n",
       "    </tr>\n",
       "    <tr>\n",
       "      <th>min</th>\n",
       "      <td>0.000000</td>\n",
       "      <td>16.300000</td>\n",
       "      <td>18.000000</td>\n",
       "      <td>18.100000</td>\n",
       "      <td>2.300000</td>\n",
       "      <td>17.800000</td>\n",
       "    </tr>\n",
       "    <tr>\n",
       "      <th>25%</th>\n",
       "      <td>12.750000</td>\n",
       "      <td>19.000000</td>\n",
       "      <td>19.400000</td>\n",
       "      <td>20.475000</td>\n",
       "      <td>19.900000</td>\n",
       "      <td>19.800000</td>\n",
       "    </tr>\n",
       "    <tr>\n",
       "      <th>50%</th>\n",
       "      <td>25.500000</td>\n",
       "      <td>20.550000</td>\n",
       "      <td>20.900000</td>\n",
       "      <td>21.700000</td>\n",
       "      <td>21.150000</td>\n",
       "      <td>21.400000</td>\n",
       "    </tr>\n",
       "    <tr>\n",
       "      <th>75%</th>\n",
       "      <td>38.250000</td>\n",
       "      <td>23.300000</td>\n",
       "      <td>23.100000</td>\n",
       "      <td>24.125000</td>\n",
       "      <td>22.525000</td>\n",
       "      <td>23.600000</td>\n",
       "    </tr>\n",
       "    <tr>\n",
       "      <th>max</th>\n",
       "      <td>51.000000</td>\n",
       "      <td>25.500000</td>\n",
       "      <td>25.300000</td>\n",
       "      <td>26.000000</td>\n",
       "      <td>24.900000</td>\n",
       "      <td>25.500000</td>\n",
       "    </tr>\n",
       "  </tbody>\n",
       "</table>\n",
       "</div>"
      ],
      "text/plain": [
       "       Unnamed: 0    English       Math    Reading    Science  Composite\n",
       "count   52.000000  52.000000  52.000000  52.000000  52.000000  52.000000\n",
       "mean    25.500000  20.919231  21.173077  22.001923  21.040385  21.509615\n",
       "std     15.154757   2.332132   1.963602   2.048672   3.151113   2.002083\n",
       "min      0.000000  16.300000  18.000000  18.100000   2.300000  17.800000\n",
       "25%     12.750000  19.000000  19.400000  20.475000  19.900000  19.800000\n",
       "50%     25.500000  20.550000  20.900000  21.700000  21.150000  21.400000\n",
       "75%     38.250000  23.300000  23.100000  24.125000  22.525000  23.600000\n",
       "max     51.000000  25.500000  25.300000  26.000000  24.900000  25.500000"
      ]
     },
     "execution_count": 5,
     "metadata": {},
     "output_type": "execute_result"
    }
   ],
   "source": [
    "# act.info\n",
    "print(\"There are {} NaNs in the dataframe.\".format(act.isnull().sum().sum()))\n",
    "act.describe()"
   ]
  },
  {
   "cell_type": "code",
   "execution_count": 6,
   "metadata": {},
   "outputs": [
    {
     "name": "stdout",
     "output_type": "stream",
     "text": [
      "There are 0 NaNs in the dataframe.\n"
     ]
    }
   ],
   "source": [
    "sat.describe()\n",
    "print(\"There are {} NaNs in the dataframe.\".format(act.isnull().sum().sum()))"
   ]
  },
  {
   "cell_type": "markdown",
   "metadata": {},
   "source": [
    "<span style='color:#38a7d0'>The data looks complete as there are no missing (null) entries.</span> \n",
    "\n",
    "<span style='color:#38a7d0'>**However:**</span>\n",
    "   * <span style='color:#38a7d0'>the minimum of science on the ACT science is very low at 2.3.</span>\n",
    "   * <span style='color:#38a7d0'>the minimum of math for the SAT is too low at 52. (The lowest possible is 200.)</span>\n",
    "\n",
    "<span style='color:#38a7d0'>We will investigate these 'abnormal' values a little further along in the notebook.</span>"
   ]
  },
  {
   "cell_type": "markdown",
   "metadata": {},
   "source": [
    "##### <span style='color:#35aca4'>E. Are there any issues in the consistency of the data?</span>"
   ]
  },
  {
   "cell_type": "code",
   "execution_count": 7,
   "metadata": {},
   "outputs": [
    {
     "name": "stdout",
     "output_type": "stream",
     "text": [
      "State 20 (Maryland): math+ebrw-Total = 472\n",
      "State 21 (Maryland): math + english + reading + science -4*Composite = 21.5\n"
     ]
    }
   ],
   "source": [
    "# Check consistency of data\n",
    "\n",
    "# sat_sections = [\"Math\", \"Evidence-Based Reading and Writing\"]\n",
    "# act_sections = [\"Math\", \"English\", \"Reading\", \"Science\"]\n",
    "\n",
    "# SAT sections should add up to SAT total\n",
    "check_sat = abs(sat.Math + sat[\"Evidence-Based Reading and Writing\"] - sat.Total)\n",
    "for ix,val in check_sat.iteritems():\n",
    "    if val > 1:\n",
    "        print(\"State {} ({}): math+ebrw-Total = {}\".format(ix, sat.loc[ix,'State'], val)) \n",
    "\n",
    "# ACT sections should add up to add up to 4 times the ACT Composite\n",
    "check_act = abs(act.Math + act.English + act.Reading + act.Science - act.Composite*4)\n",
    "for ix,val in check_act.iteritems():\n",
    "    if val > 1:\n",
    "        print(\"State {} ({}): math + english + reading + science -4*Composite = {}\"\n",
    "              .format(ix, act.loc[ix,'State'], val)) \n",
    "        "
   ]
  },
  {
   "cell_type": "markdown",
   "metadata": {},
   "source": [
    "<span style='color:#38a7d0'>The scores for Maryland are inconsistent. We can change the incorrect scores to ensure the data is consistent..</span> "
   ]
  },
  {
   "cell_type": "code",
   "execution_count": 8,
   "metadata": {},
   "outputs": [],
   "source": [
    "# Clean data by hand\n",
    "sat.loc[20, \"Math\"] = sat.Total[20] - sat.loc[20, \"Evidence-Based Reading and Writing\"]\n",
    "act.loc[21, \"Science\"] = act.Composite[21]*4 - act.Reading[21] - act.English[21] - act.Math[21]"
   ]
  },
  {
   "cell_type": "markdown",
   "metadata": {},
   "source": [
    "##### <span style='color:#35aca4'>F. Print the types of each column.</span>"
   ]
  },
  {
   "cell_type": "code",
   "execution_count": 9,
   "metadata": {
    "scrolled": true
   },
   "outputs": [
    {
     "name": "stdout",
     "output_type": "stream",
     "text": [
      "ACT column types:\n"
     ]
    },
    {
     "data": {
      "text/plain": [
       "Unnamed: 0         int64\n",
       "State             object\n",
       "Participation     object\n",
       "English          float64\n",
       "Math             float64\n",
       "Reading          float64\n",
       "Science          float64\n",
       "Composite        float64\n",
       "dtype: object"
      ]
     },
     "execution_count": 9,
     "metadata": {},
     "output_type": "execute_result"
    }
   ],
   "source": [
    "# ACT column types\n",
    "print(\"ACT column types:\")\n",
    "act.dtypes"
   ]
  },
  {
   "cell_type": "code",
   "execution_count": 10,
   "metadata": {},
   "outputs": [
    {
     "name": "stdout",
     "output_type": "stream",
     "text": [
      "SAT column types:\n"
     ]
    },
    {
     "data": {
      "text/plain": [
       "Unnamed: 0                             int64\n",
       "State                                 object\n",
       "Participation                         object\n",
       "Evidence-Based Reading and Writing     int64\n",
       "Math                                   int64\n",
       "Total                                  int64\n",
       "dtype: object"
      ]
     },
     "execution_count": 10,
     "metadata": {},
     "output_type": "execute_result"
    }
   ],
   "source": [
    "# SAT column types\n",
    "print(\"SAT column types:\")\n",
    "sat.dtypes"
   ]
  },
  {
   "cell_type": "markdown",
   "metadata": {},
   "source": [
    "##### <span style='color:#35aca4'>F. Do any types need to be reassigned? If so, go ahead and do it.</span>\n",
    "<span style='color:#38a7d0'>**We can do some cleaning:**</span> \n",
    "* <span style='color:#38a7d0'>Drop the <span style=\"font-family:monospace\">Unnamed: 0</span> columns from SAT and ACT.</span>\n",
    "* <span style='color:#38a7d0'>Keep only the <span style=\"font-family:monospace\">State</span> and <span style=\"font-family:monospace\">Enroll</span> columns in the enrollment dataframe.</span>\n",
    "* <span style='color:#38a7d0'>Remove the <span style=\"font-family:monospace\">National</span> row from the ACT dataframe.</span>\n",
    "* <span style='color:#38a7d0'>Set <span style=\"font-family:monospace\">State</span> as the index in both testing dataframes.</span>\n",
    "* <span style='color:#38a7d0'>Change the participation rate to a floating point value in both testing dataframes.</span>\n",
    "* <span style='color:#38a7d0'>Adjust the enrollment to be 1/13 of the total K-12 enrollment of each state.</span>\n",
    "\n",
    "<span style='color:#38a7d0'>**Ideas for improvement:**</span>\n",
    "* <span style='color:#38a7d0'>Change Participation from out of 100 to be out of 1.0 (divide by 100).</span>"
   ]
  },
  {
   "cell_type": "code",
   "execution_count": 11,
   "metadata": {},
   "outputs": [],
   "source": [
    "# Remove the unamed columns from both and the national from act\n",
    "sat.drop('Unnamed: 0', axis=1, inplace=True)\n",
    "act.drop('Unnamed: 0', axis=1, inplace=True)\n",
    "\n",
    "# Only keep columns we need\n",
    "enroll = enroll[['State','Enroll']]\n",
    "\n",
    "# Change the row index to be state\n",
    "sat.set_index(\"State\", inplace=True)\n",
    "act.set_index(\"State\", inplace=True)\n",
    "enroll.set_index(\"State\", inplace=True)\n",
    "\n",
    "# Save the national row just in case\n",
    "act_national = act.loc[\"National\",:]\n",
    "act.drop('National', axis=0, inplace=True)\n",
    "\n",
    "\n",
    "# Change participation of SAT, ACT to be a float\n",
    "sat['Participation'] = sat['Participation'].map(lambda cell: cell.replace('%',''))\n",
    "act['Participation'] = act['Participation'].map(lambda cell: cell.replace('%',''))\n",
    "\n",
    "sat['Participation'] = sat['Participation'].astype(float)\n",
    "act['Participation'] = act['Participation'].astype(float)\n",
    "\n",
    "enroll['Enroll'] = enroll['Enroll'].map(lambda cell: cell.replace(',',''))\n",
    "enroll['Enroll'] = enroll['Enroll'].astype(float)\n",
    "\n",
    "# Approximation of number of seniors\n",
    "enroll['Enroll'] = enroll['Enroll']/13"
   ]
  },
  {
   "cell_type": "markdown",
   "metadata": {},
   "source": [
    "##### <span style='color:#35aca4'>G. Merge the dataframes on the state column.</span>"
   ]
  },
  {
   "cell_type": "code",
   "execution_count": 12,
   "metadata": {},
   "outputs": [],
   "source": [
    "# Merge the data on the state column\n",
    "df = pd.merge(sat, act, on='State')\n",
    "df = pd.merge(df,enroll, on='State')"
   ]
  },
  {
   "cell_type": "markdown",
   "metadata": {},
   "source": [
    "##### <span style='color:#35aca4'>H. Change the names of the columns so you can distinguish between the SAT columns and the ACT columns.</span>"
   ]
  },
  {
   "cell_type": "code",
   "execution_count": 13,
   "metadata": {},
   "outputs": [],
   "source": [
    "# Rename the columns \n",
    "df = df.rename(columns={\n",
    "    'Participation_x': 'Participation_SAT', \n",
    "    'Evidence-Based Reading and Writing' : \"EBRW_SAT\",\n",
    "    'Math_x' : 'Math_SAT',\n",
    "    'Total' : 'Total_SAT',\n",
    "    'Math_y' : 'Math_ACT',\n",
    "    'English' : 'English_ACT',\n",
    "    'Reading' : 'Reading_ACT',\n",
    "    'Science' : 'Science_ACT',\n",
    "    'Composite' : 'Composite_ACT',\n",
    "    'Participation_y': 'Participation_ACT'\n",
    "})"
   ]
  },
  {
   "cell_type": "markdown",
   "metadata": {},
   "source": [
    "##### <span style='color:#35aca4'>I. Approximate the the number of students taking each test in each state.</span>"
   ]
  },
  {
   "cell_type": "code",
   "execution_count": 14,
   "metadata": {},
   "outputs": [],
   "source": [
    "# Approximate number students taking test\n",
    "df['Participation_SAT_count'] = df.Enroll * df.Participation_SAT /100\n",
    "df['Participation_ACT_count'] = df.Enroll * df.Participation_ACT /100"
   ]
  },
  {
   "cell_type": "markdown",
   "metadata": {},
   "source": [
    "##### <span style='color:#35aca4'>J. Print the minimum and maximum of each numeric column in the data frame.</span>"
   ]
  },
  {
   "cell_type": "code",
   "execution_count": 15,
   "metadata": {},
   "outputs": [
    {
     "name": "stdout",
     "output_type": "stream",
     "text": [
      "The min and max of column Participation_SAT is 2.0 and 100.0.\n",
      "The min and max of column EBRW_SAT is 482 and 644.\n",
      "The min and max of column Math_SAT is 468 and 651.\n",
      "The min and max of column Total_SAT is 950 and 1295.\n",
      "The min and max of column Participation_ACT is 8.0 and 100.0.\n",
      "The min and max of column English_ACT is 16.3 and 25.5.\n",
      "The min and max of column Math_ACT is 18.0 and 25.3.\n",
      "The min and max of column Reading_ACT is 18.1 and 25.9.\n",
      "The min and max of column Science_ACT is 18.2 and 24.7.\n",
      "The min and max of column Composite_ACT is 17.8 and 25.4.\n",
      "The min and max of column Enroll is 3457.076923076923 and 461219.53846153844.\n",
      "The min and max of column Participation_SAT_count is 156.2969230769231 and 244446.35538461537.\n",
      "The min and max of column Participation_ACT_count is 1079.4092307692308 and 170653.36153846156.\n"
     ]
    }
   ],
   "source": [
    "for c in df.columns:\n",
    "    print(\"The min and max of column {} is {} and {}.\".format(c,df[c].min(), df[c].max())) "
   ]
  },
  {
   "cell_type": "markdown",
   "metadata": {},
   "source": [
    "##### <span style='color:#35aca4'>K. Write a function using only list comprehensions, no loops, to compute standard deviation. Using this function, calculate the standard deviation of each numeric column in both data sets. Add these to a list called <span style=\"font-family:monospace\">sd</span>.</span>\n",
    "\n",
    "<span style='color:#35aca4'>$$\\sigma = \\sqrt{\\frac{1}{n}\\sum_{i=1}^n(x_i - \\mu)^2}$$</span>\n",
    "\n",
    " ##### <span style='color:#35aca4'>Turn the list <span style=\"font-family:monospace\">sd</span> into a new observation in your dataset.</span>"
   ]
  },
  {
   "cell_type": "code",
   "execution_count": 16,
   "metadata": {},
   "outputs": [],
   "source": [
    "# Function to calculate standard deviation\n",
    "def my_std(values):\n",
    "    mu = np.mean(values)\n",
    "    return np.sqrt(sum([(v-mu)**2 for v in values])/len(values))\n",
    "\n",
    "sd = df.apply(lambda x: my_std(x))"
   ]
  },
  {
   "cell_type": "markdown",
   "metadata": {},
   "source": [
    "<hr>\n",
    " <a name=\"step2\"></a>\n",
    "## <span style='color:#32b165'>II. Manipulate the dataframe</span>"
   ]
  },
  {
   "cell_type": "markdown",
   "metadata": {},
   "source": [
    "##### <span style='color:#35aca4'>A. Sort the dataframe by the values in a numeric column (e.g. observations descending by SAT participation rate)</span>"
   ]
  },
  {
   "cell_type": "code",
   "execution_count": 17,
   "metadata": {},
   "outputs": [
    {
     "data": {
      "text/html": [
       "<div>\n",
       "<style scoped>\n",
       "    .dataframe tbody tr th:only-of-type {\n",
       "        vertical-align: middle;\n",
       "    }\n",
       "\n",
       "    .dataframe tbody tr th {\n",
       "        vertical-align: top;\n",
       "    }\n",
       "\n",
       "    .dataframe thead th {\n",
       "        text-align: right;\n",
       "    }\n",
       "</style>\n",
       "<table border=\"1\" class=\"dataframe\">\n",
       "  <thead>\n",
       "    <tr style=\"text-align: right;\">\n",
       "      <th></th>\n",
       "      <th>Participation_SAT</th>\n",
       "      <th>EBRW_SAT</th>\n",
       "      <th>Math_SAT</th>\n",
       "      <th>Total_SAT</th>\n",
       "      <th>Participation_ACT</th>\n",
       "      <th>English_ACT</th>\n",
       "      <th>Math_ACT</th>\n",
       "      <th>Reading_ACT</th>\n",
       "      <th>Science_ACT</th>\n",
       "      <th>Composite_ACT</th>\n",
       "      <th>Enroll</th>\n",
       "      <th>Participation_SAT_count</th>\n",
       "      <th>Participation_ACT_count</th>\n",
       "    </tr>\n",
       "    <tr>\n",
       "      <th>State</th>\n",
       "      <th></th>\n",
       "      <th></th>\n",
       "      <th></th>\n",
       "      <th></th>\n",
       "      <th></th>\n",
       "      <th></th>\n",
       "      <th></th>\n",
       "      <th></th>\n",
       "      <th></th>\n",
       "      <th></th>\n",
       "      <th></th>\n",
       "      <th></th>\n",
       "      <th></th>\n",
       "    </tr>\n",
       "  </thead>\n",
       "  <tbody>\n",
       "    <tr>\n",
       "      <th>Michigan</th>\n",
       "      <td>100.0</td>\n",
       "      <td>509</td>\n",
       "      <td>495</td>\n",
       "      <td>1005</td>\n",
       "      <td>29.0</td>\n",
       "      <td>24.1</td>\n",
       "      <td>23.7</td>\n",
       "      <td>24.5</td>\n",
       "      <td>23.8</td>\n",
       "      <td>24.1</td>\n",
       "      <td>103645.384615</td>\n",
       "      <td>103645.384615</td>\n",
       "      <td>30057.161538</td>\n",
       "    </tr>\n",
       "    <tr>\n",
       "      <th>Connecticut</th>\n",
       "      <td>100.0</td>\n",
       "      <td>530</td>\n",
       "      <td>512</td>\n",
       "      <td>1041</td>\n",
       "      <td>31.0</td>\n",
       "      <td>25.5</td>\n",
       "      <td>24.6</td>\n",
       "      <td>25.6</td>\n",
       "      <td>24.6</td>\n",
       "      <td>25.2</td>\n",
       "      <td>39602.307692</td>\n",
       "      <td>39602.307692</td>\n",
       "      <td>12276.715385</td>\n",
       "    </tr>\n",
       "    <tr>\n",
       "      <th>Delaware</th>\n",
       "      <td>100.0</td>\n",
       "      <td>503</td>\n",
       "      <td>492</td>\n",
       "      <td>996</td>\n",
       "      <td>18.0</td>\n",
       "      <td>24.1</td>\n",
       "      <td>23.4</td>\n",
       "      <td>24.8</td>\n",
       "      <td>23.6</td>\n",
       "      <td>24.1</td>\n",
       "      <td>9267.307692</td>\n",
       "      <td>9267.307692</td>\n",
       "      <td>1668.115385</td>\n",
       "    </tr>\n",
       "    <tr>\n",
       "      <th>District of Columbia</th>\n",
       "      <td>100.0</td>\n",
       "      <td>482</td>\n",
       "      <td>468</td>\n",
       "      <td>950</td>\n",
       "      <td>32.0</td>\n",
       "      <td>24.4</td>\n",
       "      <td>23.5</td>\n",
       "      <td>24.9</td>\n",
       "      <td>23.5</td>\n",
       "      <td>24.2</td>\n",
       "      <td>3457.076923</td>\n",
       "      <td>3457.076923</td>\n",
       "      <td>1106.264615</td>\n",
       "    </tr>\n",
       "    <tr>\n",
       "      <th>Maine</th>\n",
       "      <td>95.0</td>\n",
       "      <td>513</td>\n",
       "      <td>499</td>\n",
       "      <td>1012</td>\n",
       "      <td>8.0</td>\n",
       "      <td>24.2</td>\n",
       "      <td>24.0</td>\n",
       "      <td>24.8</td>\n",
       "      <td>23.7</td>\n",
       "      <td>24.3</td>\n",
       "      <td>13492.615385</td>\n",
       "      <td>12817.984615</td>\n",
       "      <td>1079.409231</td>\n",
       "    </tr>\n",
       "  </tbody>\n",
       "</table>\n",
       "</div>"
      ],
      "text/plain": [
       "                      Participation_SAT  EBRW_SAT  Math_SAT  Total_SAT  \\\n",
       "State                                                                    \n",
       "Michigan                          100.0       509       495       1005   \n",
       "Connecticut                       100.0       530       512       1041   \n",
       "Delaware                          100.0       503       492        996   \n",
       "District of Columbia              100.0       482       468        950   \n",
       "Maine                              95.0       513       499       1012   \n",
       "\n",
       "                      Participation_ACT  English_ACT  Math_ACT  Reading_ACT  \\\n",
       "State                                                                         \n",
       "Michigan                           29.0         24.1      23.7         24.5   \n",
       "Connecticut                        31.0         25.5      24.6         25.6   \n",
       "Delaware                           18.0         24.1      23.4         24.8   \n",
       "District of Columbia               32.0         24.4      23.5         24.9   \n",
       "Maine                               8.0         24.2      24.0         24.8   \n",
       "\n",
       "                      Science_ACT  Composite_ACT         Enroll  \\\n",
       "State                                                             \n",
       "Michigan                     23.8           24.1  103645.384615   \n",
       "Connecticut                  24.6           25.2   39602.307692   \n",
       "Delaware                     23.6           24.1    9267.307692   \n",
       "District of Columbia         23.5           24.2    3457.076923   \n",
       "Maine                        23.7           24.3   13492.615385   \n",
       "\n",
       "                      Participation_SAT_count  Participation_ACT_count  \n",
       "State                                                                   \n",
       "Michigan                        103645.384615             30057.161538  \n",
       "Connecticut                      39602.307692             12276.715385  \n",
       "Delaware                          9267.307692              1668.115385  \n",
       "District of Columbia              3457.076923              1106.264615  \n",
       "Maine                            12817.984615              1079.409231  "
      ]
     },
     "execution_count": 17,
     "metadata": {},
     "output_type": "execute_result"
    }
   ],
   "source": [
    "# Sort DataFrame \n",
    "df = df.sort_values(by=\"Participation_SAT\", ascending=False)\n",
    "df.head()"
   ]
  },
  {
   "cell_type": "code",
   "execution_count": 18,
   "metadata": {},
   "outputs": [
    {
     "data": {
      "text/html": [
       "<div>\n",
       "<style scoped>\n",
       "    .dataframe tbody tr th:only-of-type {\n",
       "        vertical-align: middle;\n",
       "    }\n",
       "\n",
       "    .dataframe tbody tr th {\n",
       "        vertical-align: top;\n",
       "    }\n",
       "\n",
       "    .dataframe thead th {\n",
       "        text-align: right;\n",
       "    }\n",
       "</style>\n",
       "<table border=\"1\" class=\"dataframe\">\n",
       "  <thead>\n",
       "    <tr style=\"text-align: right;\">\n",
       "      <th></th>\n",
       "      <th>Participation_SAT</th>\n",
       "      <th>EBRW_SAT</th>\n",
       "      <th>Math_SAT</th>\n",
       "      <th>Total_SAT</th>\n",
       "      <th>Participation_ACT</th>\n",
       "      <th>English_ACT</th>\n",
       "      <th>Math_ACT</th>\n",
       "      <th>Reading_ACT</th>\n",
       "      <th>Science_ACT</th>\n",
       "      <th>Composite_ACT</th>\n",
       "      <th>Enroll</th>\n",
       "      <th>Participation_SAT_count</th>\n",
       "      <th>Participation_ACT_count</th>\n",
       "    </tr>\n",
       "    <tr>\n",
       "      <th>State</th>\n",
       "      <th></th>\n",
       "      <th></th>\n",
       "      <th></th>\n",
       "      <th></th>\n",
       "      <th></th>\n",
       "      <th></th>\n",
       "      <th></th>\n",
       "      <th></th>\n",
       "      <th></th>\n",
       "      <th></th>\n",
       "      <th></th>\n",
       "      <th></th>\n",
       "      <th></th>\n",
       "    </tr>\n",
       "  </thead>\n",
       "  <tbody>\n",
       "    <tr>\n",
       "      <th>Mississippi</th>\n",
       "      <td>2.0</td>\n",
       "      <td>634</td>\n",
       "      <td>607</td>\n",
       "      <td>1242</td>\n",
       "      <td>100.0</td>\n",
       "      <td>18.2</td>\n",
       "      <td>18.1</td>\n",
       "      <td>18.8</td>\n",
       "      <td>18.8</td>\n",
       "      <td>18.6</td>\n",
       "      <td>31545.307692</td>\n",
       "      <td>630.906154</td>\n",
       "      <td>31545.307692</td>\n",
       "    </tr>\n",
       "    <tr>\n",
       "      <th>Montana</th>\n",
       "      <td>10.0</td>\n",
       "      <td>605</td>\n",
       "      <td>591</td>\n",
       "      <td>1196</td>\n",
       "      <td>100.0</td>\n",
       "      <td>19.0</td>\n",
       "      <td>20.2</td>\n",
       "      <td>21.0</td>\n",
       "      <td>20.5</td>\n",
       "      <td>20.3</td>\n",
       "      <td>11079.538462</td>\n",
       "      <td>1107.953846</td>\n",
       "      <td>11079.538462</td>\n",
       "    </tr>\n",
       "    <tr>\n",
       "      <th>North Carolina</th>\n",
       "      <td>49.0</td>\n",
       "      <td>546</td>\n",
       "      <td>535</td>\n",
       "      <td>1081</td>\n",
       "      <td>100.0</td>\n",
       "      <td>17.8</td>\n",
       "      <td>19.3</td>\n",
       "      <td>19.6</td>\n",
       "      <td>19.3</td>\n",
       "      <td>19.1</td>\n",
       "      <td>110758.153846</td>\n",
       "      <td>54271.495385</td>\n",
       "      <td>110758.153846</td>\n",
       "    </tr>\n",
       "    <tr>\n",
       "      <th>South Carolina</th>\n",
       "      <td>50.0</td>\n",
       "      <td>543</td>\n",
       "      <td>521</td>\n",
       "      <td>1064</td>\n",
       "      <td>100.0</td>\n",
       "      <td>17.5</td>\n",
       "      <td>18.6</td>\n",
       "      <td>19.1</td>\n",
       "      <td>18.9</td>\n",
       "      <td>18.7</td>\n",
       "      <td>55920.384615</td>\n",
       "      <td>27960.192308</td>\n",
       "      <td>55920.384615</td>\n",
       "    </tr>\n",
       "    <tr>\n",
       "      <th>Oklahoma</th>\n",
       "      <td>7.0</td>\n",
       "      <td>530</td>\n",
       "      <td>517</td>\n",
       "      <td>1047</td>\n",
       "      <td>100.0</td>\n",
       "      <td>18.5</td>\n",
       "      <td>18.8</td>\n",
       "      <td>20.1</td>\n",
       "      <td>19.6</td>\n",
       "      <td>19.4</td>\n",
       "      <td>51326.615385</td>\n",
       "      <td>3592.863077</td>\n",
       "      <td>51326.615385</td>\n",
       "    </tr>\n",
       "  </tbody>\n",
       "</table>\n",
       "</div>"
      ],
      "text/plain": [
       "                Participation_SAT  EBRW_SAT  Math_SAT  Total_SAT  \\\n",
       "State                                                              \n",
       "Mississippi                   2.0       634       607       1242   \n",
       "Montana                      10.0       605       591       1196   \n",
       "North Carolina               49.0       546       535       1081   \n",
       "South Carolina               50.0       543       521       1064   \n",
       "Oklahoma                      7.0       530       517       1047   \n",
       "\n",
       "                Participation_ACT  English_ACT  Math_ACT  Reading_ACT  \\\n",
       "State                                                                   \n",
       "Mississippi                 100.0         18.2      18.1         18.8   \n",
       "Montana                     100.0         19.0      20.2         21.0   \n",
       "North Carolina              100.0         17.8      19.3         19.6   \n",
       "South Carolina              100.0         17.5      18.6         19.1   \n",
       "Oklahoma                    100.0         18.5      18.8         20.1   \n",
       "\n",
       "                Science_ACT  Composite_ACT         Enroll  \\\n",
       "State                                                       \n",
       "Mississippi            18.8           18.6   31545.307692   \n",
       "Montana                20.5           20.3   11079.538462   \n",
       "North Carolina         19.3           19.1  110758.153846   \n",
       "South Carolina         18.9           18.7   55920.384615   \n",
       "Oklahoma               19.6           19.4   51326.615385   \n",
       "\n",
       "                Participation_SAT_count  Participation_ACT_count  \n",
       "State                                                             \n",
       "Mississippi                  630.906154             31545.307692  \n",
       "Montana                     1107.953846             11079.538462  \n",
       "North Carolina             54271.495385            110758.153846  \n",
       "South Carolina             27960.192308             55920.384615  \n",
       "Oklahoma                    3592.863077             51326.615385  "
      ]
     },
     "execution_count": 18,
     "metadata": {},
     "output_type": "execute_result"
    }
   ],
   "source": [
    "# Sort DataFrame \n",
    "df = df.sort_values(by=\"Participation_ACT\", ascending=False)\n",
    "# df.head(18)\n",
    "df.head()"
   ]
  },
  {
   "cell_type": "code",
   "execution_count": 19,
   "metadata": {},
   "outputs": [
    {
     "data": {
      "text/html": [
       "<div>\n",
       "<style scoped>\n",
       "    .dataframe tbody tr th:only-of-type {\n",
       "        vertical-align: middle;\n",
       "    }\n",
       "\n",
       "    .dataframe tbody tr th {\n",
       "        vertical-align: top;\n",
       "    }\n",
       "\n",
       "    .dataframe thead th {\n",
       "        text-align: right;\n",
       "    }\n",
       "</style>\n",
       "<table border=\"1\" class=\"dataframe\">\n",
       "  <thead>\n",
       "    <tr style=\"text-align: right;\">\n",
       "      <th></th>\n",
       "      <th>Enroll</th>\n",
       "      <th>Participation_SAT</th>\n",
       "      <th>Participation_ACT</th>\n",
       "      <th>Participation_SAT_count</th>\n",
       "      <th>Participation_ACT_count</th>\n",
       "    </tr>\n",
       "    <tr>\n",
       "      <th>State</th>\n",
       "      <th></th>\n",
       "      <th></th>\n",
       "      <th></th>\n",
       "      <th></th>\n",
       "      <th></th>\n",
       "    </tr>\n",
       "  </thead>\n",
       "  <tbody>\n",
       "    <tr>\n",
       "      <th>California</th>\n",
       "      <td>461219.538462</td>\n",
       "      <td>53.0</td>\n",
       "      <td>31.0</td>\n",
       "      <td>244446.355385</td>\n",
       "      <td>142978.056923</td>\n",
       "    </tr>\n",
       "    <tr>\n",
       "      <th>Texas</th>\n",
       "      <td>379229.692308</td>\n",
       "      <td>62.0</td>\n",
       "      <td>45.0</td>\n",
       "      <td>235122.409231</td>\n",
       "      <td>170653.361538</td>\n",
       "    </tr>\n",
       "    <tr>\n",
       "      <th>Florida</th>\n",
       "      <td>206288.538462</td>\n",
       "      <td>83.0</td>\n",
       "      <td>73.0</td>\n",
       "      <td>171219.486923</td>\n",
       "      <td>150590.633077</td>\n",
       "    </tr>\n",
       "    <tr>\n",
       "      <th>Illinois</th>\n",
       "      <td>155797.769231</td>\n",
       "      <td>9.0</td>\n",
       "      <td>93.0</td>\n",
       "      <td>14021.799231</td>\n",
       "      <td>144891.925385</td>\n",
       "    </tr>\n",
       "    <tr>\n",
       "      <th>Georgia</th>\n",
       "      <td>130706.538462</td>\n",
       "      <td>61.0</td>\n",
       "      <td>55.0</td>\n",
       "      <td>79730.988462</td>\n",
       "      <td>71888.596154</td>\n",
       "    </tr>\n",
       "    <tr>\n",
       "      <th>New York</th>\n",
       "      <td>125042.615385</td>\n",
       "      <td>67.0</td>\n",
       "      <td>31.0</td>\n",
       "      <td>83778.552308</td>\n",
       "      <td>38763.210769</td>\n",
       "    </tr>\n",
       "    <tr>\n",
       "      <th>Ohio</th>\n",
       "      <td>123184.076923</td>\n",
       "      <td>12.0</td>\n",
       "      <td>75.0</td>\n",
       "      <td>14782.089231</td>\n",
       "      <td>92388.057692</td>\n",
       "    </tr>\n",
       "    <tr>\n",
       "      <th>Pennsylvania</th>\n",
       "      <td>122816.000000</td>\n",
       "      <td>65.0</td>\n",
       "      <td>23.0</td>\n",
       "      <td>79830.400000</td>\n",
       "      <td>28247.680000</td>\n",
       "    </tr>\n",
       "    <tr>\n",
       "      <th>North Carolina</th>\n",
       "      <td>110758.153846</td>\n",
       "      <td>49.0</td>\n",
       "      <td>100.0</td>\n",
       "      <td>54271.495385</td>\n",
       "      <td>110758.153846</td>\n",
       "    </tr>\n",
       "    <tr>\n",
       "      <th>Michigan</th>\n",
       "      <td>103645.384615</td>\n",
       "      <td>100.0</td>\n",
       "      <td>29.0</td>\n",
       "      <td>103645.384615</td>\n",
       "      <td>30057.161538</td>\n",
       "    </tr>\n",
       "    <tr>\n",
       "      <th>New Jersey</th>\n",
       "      <td>102721.692308</td>\n",
       "      <td>70.0</td>\n",
       "      <td>34.0</td>\n",
       "      <td>71905.184615</td>\n",
       "      <td>34925.375385</td>\n",
       "    </tr>\n",
       "    <tr>\n",
       "      <th>Virginia</th>\n",
       "      <td>96868.846154</td>\n",
       "      <td>65.0</td>\n",
       "      <td>29.0</td>\n",
       "      <td>62964.750000</td>\n",
       "      <td>28091.965385</td>\n",
       "    </tr>\n",
       "    <tr>\n",
       "      <th>Washington</th>\n",
       "      <td>80552.461538</td>\n",
       "      <td>64.0</td>\n",
       "      <td>29.0</td>\n",
       "      <td>51553.575385</td>\n",
       "      <td>23360.213846</td>\n",
       "    </tr>\n",
       "    <tr>\n",
       "      <th>Indiana</th>\n",
       "      <td>77513.153846</td>\n",
       "      <td>63.0</td>\n",
       "      <td>35.0</td>\n",
       "      <td>48833.286923</td>\n",
       "      <td>27129.603846</td>\n",
       "    </tr>\n",
       "    <tr>\n",
       "      <th>Tennessee</th>\n",
       "      <td>75572.615385</td>\n",
       "      <td>5.0</td>\n",
       "      <td>100.0</td>\n",
       "      <td>3778.630769</td>\n",
       "      <td>75572.615385</td>\n",
       "    </tr>\n",
       "  </tbody>\n",
       "</table>\n",
       "</div>"
      ],
      "text/plain": [
       "                       Enroll  Participation_SAT  Participation_ACT  \\\n",
       "State                                                                 \n",
       "California      461219.538462               53.0               31.0   \n",
       "Texas           379229.692308               62.0               45.0   \n",
       "Florida         206288.538462               83.0               73.0   \n",
       "Illinois        155797.769231                9.0               93.0   \n",
       "Georgia         130706.538462               61.0               55.0   \n",
       "New York        125042.615385               67.0               31.0   \n",
       "Ohio            123184.076923               12.0               75.0   \n",
       "Pennsylvania    122816.000000               65.0               23.0   \n",
       "North Carolina  110758.153846               49.0              100.0   \n",
       "Michigan        103645.384615              100.0               29.0   \n",
       "New Jersey      102721.692308               70.0               34.0   \n",
       "Virginia         96868.846154               65.0               29.0   \n",
       "Washington       80552.461538               64.0               29.0   \n",
       "Indiana          77513.153846               63.0               35.0   \n",
       "Tennessee        75572.615385                5.0              100.0   \n",
       "\n",
       "                Participation_SAT_count  Participation_ACT_count  \n",
       "State                                                             \n",
       "California                244446.355385            142978.056923  \n",
       "Texas                     235122.409231            170653.361538  \n",
       "Florida                   171219.486923            150590.633077  \n",
       "Illinois                   14021.799231            144891.925385  \n",
       "Georgia                    79730.988462             71888.596154  \n",
       "New York                   83778.552308             38763.210769  \n",
       "Ohio                       14782.089231             92388.057692  \n",
       "Pennsylvania               79830.400000             28247.680000  \n",
       "North Carolina             54271.495385            110758.153846  \n",
       "Michigan                  103645.384615             30057.161538  \n",
       "New Jersey                 71905.184615             34925.375385  \n",
       "Virginia                   62964.750000             28091.965385  \n",
       "Washington                 51553.575385             23360.213846  \n",
       "Indiana                    48833.286923             27129.603846  \n",
       "Tennessee                   3778.630769             75572.615385  "
      ]
     },
     "execution_count": 19,
     "metadata": {},
     "output_type": "execute_result"
    }
   ],
   "source": [
    "# Sort DataFrame \n",
    "columns = [\"Enroll\", \"Participation_SAT\", \"Participation_ACT\", \"Participation_SAT_count\", \"Participation_ACT_count\"]\n",
    "df_enroll = pd.DataFrame(df, columns=columns)\n",
    "df_enroll = df_enroll.sort_values(by=\"Enroll\", ascending=False)\n",
    "df_enroll.head(15)\n"
   ]
  },
  {
   "cell_type": "code",
   "execution_count": 20,
   "metadata": {},
   "outputs": [
    {
     "name": "stdout",
     "output_type": "stream",
     "text": [
      "Approximate participation counts:\n",
      "ACT: 2114471\n",
      "SAT: 1628130\n"
     ]
    }
   ],
   "source": [
    "print(\"Approximate participation counts:\") \n",
    "print(\"ACT: {}\".format(int(df.Participation_ACT_count.sum())))\n",
    "print(\"SAT: {}\".format(int(df.Participation_SAT_count.sum())))"
   ]
  },
  {
   "cell_type": "markdown",
   "metadata": {},
   "source": [
    "### <span style='color:#38a7d0'>Observations:</span>\n",
    "* <span style='color:#38a7d0'>Four states have 100% Participation in the SAT.</a>\n",
    "* <span style='color:#38a7d0'>Seventeen states have 100% Participation in the ACT.</a>\n",
    "* <span style='color:#38a7d0'>There are large states where neither has 100% participation.</a>"
   ]
  },
  {
   "cell_type": "markdown",
   "metadata": {},
   "source": [
    "##### <span style='color:#35aca4'>B. Use a boolean filter to display only observations with a score above a certain threshold (e.g. only states with a participation rate above 50%)</span>"
   ]
  },
  {
   "cell_type": "code",
   "execution_count": 21,
   "metadata": {},
   "outputs": [
    {
     "data": {
      "text/html": [
       "<div>\n",
       "<style scoped>\n",
       "    .dataframe tbody tr th:only-of-type {\n",
       "        vertical-align: middle;\n",
       "    }\n",
       "\n",
       "    .dataframe tbody tr th {\n",
       "        vertical-align: top;\n",
       "    }\n",
       "\n",
       "    .dataframe thead th {\n",
       "        text-align: right;\n",
       "    }\n",
       "</style>\n",
       "<table border=\"1\" class=\"dataframe\">\n",
       "  <thead>\n",
       "    <tr style=\"text-align: right;\">\n",
       "      <th></th>\n",
       "      <th>Participation_SAT</th>\n",
       "      <th>EBRW_SAT</th>\n",
       "      <th>Math_SAT</th>\n",
       "      <th>Total_SAT</th>\n",
       "      <th>Participation_ACT</th>\n",
       "      <th>English_ACT</th>\n",
       "      <th>Math_ACT</th>\n",
       "      <th>Reading_ACT</th>\n",
       "      <th>Science_ACT</th>\n",
       "      <th>Composite_ACT</th>\n",
       "      <th>Enroll</th>\n",
       "      <th>Participation_SAT_count</th>\n",
       "      <th>Participation_ACT_count</th>\n",
       "    </tr>\n",
       "    <tr>\n",
       "      <th>State</th>\n",
       "      <th></th>\n",
       "      <th></th>\n",
       "      <th></th>\n",
       "      <th></th>\n",
       "      <th></th>\n",
       "      <th></th>\n",
       "      <th></th>\n",
       "      <th></th>\n",
       "      <th></th>\n",
       "      <th></th>\n",
       "      <th></th>\n",
       "      <th></th>\n",
       "      <th></th>\n",
       "    </tr>\n",
       "  </thead>\n",
       "  <tbody>\n",
       "    <tr>\n",
       "      <th>Florida</th>\n",
       "      <td>83.0</td>\n",
       "      <td>520</td>\n",
       "      <td>497</td>\n",
       "      <td>1017</td>\n",
       "      <td>73.0</td>\n",
       "      <td>19.0</td>\n",
       "      <td>19.4</td>\n",
       "      <td>21.0</td>\n",
       "      <td>19.4</td>\n",
       "      <td>19.8</td>\n",
       "      <td>206288.538462</td>\n",
       "      <td>171219.486923</td>\n",
       "      <td>150590.633077</td>\n",
       "    </tr>\n",
       "    <tr>\n",
       "      <th>Idaho</th>\n",
       "      <td>93.0</td>\n",
       "      <td>513</td>\n",
       "      <td>493</td>\n",
       "      <td>1005</td>\n",
       "      <td>38.0</td>\n",
       "      <td>21.9</td>\n",
       "      <td>21.8</td>\n",
       "      <td>23.0</td>\n",
       "      <td>22.1</td>\n",
       "      <td>22.3</td>\n",
       "      <td>21314.153846</td>\n",
       "      <td>19822.163077</td>\n",
       "      <td>8099.378462</td>\n",
       "    </tr>\n",
       "    <tr>\n",
       "      <th>District of Columbia</th>\n",
       "      <td>100.0</td>\n",
       "      <td>482</td>\n",
       "      <td>468</td>\n",
       "      <td>950</td>\n",
       "      <td>32.0</td>\n",
       "      <td>24.4</td>\n",
       "      <td>23.5</td>\n",
       "      <td>24.9</td>\n",
       "      <td>23.5</td>\n",
       "      <td>24.2</td>\n",
       "      <td>3457.076923</td>\n",
       "      <td>3457.076923</td>\n",
       "      <td>1106.264615</td>\n",
       "    </tr>\n",
       "    <tr>\n",
       "      <th>Connecticut</th>\n",
       "      <td>100.0</td>\n",
       "      <td>530</td>\n",
       "      <td>512</td>\n",
       "      <td>1041</td>\n",
       "      <td>31.0</td>\n",
       "      <td>25.5</td>\n",
       "      <td>24.6</td>\n",
       "      <td>25.6</td>\n",
       "      <td>24.6</td>\n",
       "      <td>25.2</td>\n",
       "      <td>39602.307692</td>\n",
       "      <td>39602.307692</td>\n",
       "      <td>12276.715385</td>\n",
       "    </tr>\n",
       "    <tr>\n",
       "      <th>Massachusetts</th>\n",
       "      <td>76.0</td>\n",
       "      <td>555</td>\n",
       "      <td>551</td>\n",
       "      <td>1107</td>\n",
       "      <td>29.0</td>\n",
       "      <td>25.4</td>\n",
       "      <td>25.3</td>\n",
       "      <td>25.9</td>\n",
       "      <td>24.7</td>\n",
       "      <td>25.4</td>\n",
       "      <td>60351.461538</td>\n",
       "      <td>45867.110769</td>\n",
       "      <td>17501.923846</td>\n",
       "    </tr>\n",
       "    <tr>\n",
       "      <th>Michigan</th>\n",
       "      <td>100.0</td>\n",
       "      <td>509</td>\n",
       "      <td>495</td>\n",
       "      <td>1005</td>\n",
       "      <td>29.0</td>\n",
       "      <td>24.1</td>\n",
       "      <td>23.7</td>\n",
       "      <td>24.5</td>\n",
       "      <td>23.8</td>\n",
       "      <td>24.1</td>\n",
       "      <td>103645.384615</td>\n",
       "      <td>103645.384615</td>\n",
       "      <td>30057.161538</td>\n",
       "    </tr>\n",
       "    <tr>\n",
       "      <th>Rhode Island</th>\n",
       "      <td>71.0</td>\n",
       "      <td>539</td>\n",
       "      <td>524</td>\n",
       "      <td>1062</td>\n",
       "      <td>21.0</td>\n",
       "      <td>24.0</td>\n",
       "      <td>23.3</td>\n",
       "      <td>24.7</td>\n",
       "      <td>23.4</td>\n",
       "      <td>24.0</td>\n",
       "      <td>9394.615385</td>\n",
       "      <td>6670.176923</td>\n",
       "      <td>1972.869231</td>\n",
       "    </tr>\n",
       "    <tr>\n",
       "      <th>Delaware</th>\n",
       "      <td>100.0</td>\n",
       "      <td>503</td>\n",
       "      <td>492</td>\n",
       "      <td>996</td>\n",
       "      <td>18.0</td>\n",
       "      <td>24.1</td>\n",
       "      <td>23.4</td>\n",
       "      <td>24.8</td>\n",
       "      <td>23.6</td>\n",
       "      <td>24.1</td>\n",
       "      <td>9267.307692</td>\n",
       "      <td>9267.307692</td>\n",
       "      <td>1668.115385</td>\n",
       "    </tr>\n",
       "    <tr>\n",
       "      <th>Maine</th>\n",
       "      <td>95.0</td>\n",
       "      <td>513</td>\n",
       "      <td>499</td>\n",
       "      <td>1012</td>\n",
       "      <td>8.0</td>\n",
       "      <td>24.2</td>\n",
       "      <td>24.0</td>\n",
       "      <td>24.8</td>\n",
       "      <td>23.7</td>\n",
       "      <td>24.3</td>\n",
       "      <td>13492.615385</td>\n",
       "      <td>12817.984615</td>\n",
       "      <td>1079.409231</td>\n",
       "    </tr>\n",
       "  </tbody>\n",
       "</table>\n",
       "</div>"
      ],
      "text/plain": [
       "                      Participation_SAT  EBRW_SAT  Math_SAT  Total_SAT  \\\n",
       "State                                                                    \n",
       "Florida                            83.0       520       497       1017   \n",
       "Idaho                              93.0       513       493       1005   \n",
       "District of Columbia              100.0       482       468        950   \n",
       "Connecticut                       100.0       530       512       1041   \n",
       "Massachusetts                      76.0       555       551       1107   \n",
       "Michigan                          100.0       509       495       1005   \n",
       "Rhode Island                       71.0       539       524       1062   \n",
       "Delaware                          100.0       503       492        996   \n",
       "Maine                              95.0       513       499       1012   \n",
       "\n",
       "                      Participation_ACT  English_ACT  Math_ACT  Reading_ACT  \\\n",
       "State                                                                         \n",
       "Florida                            73.0         19.0      19.4         21.0   \n",
       "Idaho                              38.0         21.9      21.8         23.0   \n",
       "District of Columbia               32.0         24.4      23.5         24.9   \n",
       "Connecticut                        31.0         25.5      24.6         25.6   \n",
       "Massachusetts                      29.0         25.4      25.3         25.9   \n",
       "Michigan                           29.0         24.1      23.7         24.5   \n",
       "Rhode Island                       21.0         24.0      23.3         24.7   \n",
       "Delaware                           18.0         24.1      23.4         24.8   \n",
       "Maine                               8.0         24.2      24.0         24.8   \n",
       "\n",
       "                      Science_ACT  Composite_ACT         Enroll  \\\n",
       "State                                                             \n",
       "Florida                      19.4           19.8  206288.538462   \n",
       "Idaho                        22.1           22.3   21314.153846   \n",
       "District of Columbia         23.5           24.2    3457.076923   \n",
       "Connecticut                  24.6           25.2   39602.307692   \n",
       "Massachusetts                24.7           25.4   60351.461538   \n",
       "Michigan                     23.8           24.1  103645.384615   \n",
       "Rhode Island                 23.4           24.0    9394.615385   \n",
       "Delaware                     23.6           24.1    9267.307692   \n",
       "Maine                        23.7           24.3   13492.615385   \n",
       "\n",
       "                      Participation_SAT_count  Participation_ACT_count  \n",
       "State                                                                   \n",
       "Florida                         171219.486923            150590.633077  \n",
       "Idaho                            19822.163077              8099.378462  \n",
       "District of Columbia              3457.076923              1106.264615  \n",
       "Connecticut                      39602.307692             12276.715385  \n",
       "Massachusetts                    45867.110769             17501.923846  \n",
       "Michigan                        103645.384615             30057.161538  \n",
       "Rhode Island                      6670.176923              1972.869231  \n",
       "Delaware                          9267.307692              1668.115385  \n",
       "Maine                            12817.984615              1079.409231  "
      ]
     },
     "execution_count": 21,
     "metadata": {},
     "output_type": "execute_result"
    }
   ],
   "source": [
    "df[df[\"Participation_SAT\"] > 70]"
   ]
  },
  {
   "cell_type": "markdown",
   "metadata": {},
   "source": [
    "<hr>\n",
    " <a name=\"step3\"></a>\n",
    "## <span style='color:#32b165'>III. Visualize the data</span>"
   ]
  },
  {
   "cell_type": "markdown",
   "metadata": {
    "collapsed": true
   },
   "source": [
    "##### <span style='color:#35aca4'>A. Using MatPlotLib and PyPlot, plot the distribution of the Rate columns for both SAT and ACT using histograms. (You should have two histograms. You might find [this link](https://matplotlib.org/users/pyplot_tutorial.html#working-with-multiple-figures-and-axes) helpful in organizing one plot above the other.) </span>"
   ]
  },
  {
   "cell_type": "code",
   "execution_count": 22,
   "metadata": {},
   "outputs": [
    {
     "data": {
      "image/png": "[encoded data removed]",
      "text/plain": [
       "<Figure size 1080x360 with 2 Axes>"
      ]
     },
     "metadata": {},
     "output_type": "display_data"
    }
   ],
   "source": [
    "sat_color = \"#32b165\"\n",
    "act_color = \"#a38cf4\"\n",
    "reg_color = '#f67088'\n",
    "reg2_color = '#96a331'\n",
    "\n",
    "# Set up the matplotlib figure\n",
    "f, axes = plt.subplots(ncols=2, figsize=(15, 5))\n",
    "sns.despine(left=True)\n",
    "plt.subplots_adjust(hspace = .5)\n",
    "\n",
    "ax=axes[0]\n",
    "ax.set_title('SAT participation rates')\n",
    "sns.distplot(df.Participation_SAT, bins=10, color=sat_color,kde=False, ax=ax)\n",
    "#, hist_kws={\"color\": current_palette})\n",
    "ax.set_xlabel('Participation Rates')    \n",
    "ax.set_ylabel('Number of states');\n",
    "\n",
    "ax=axes[1]\n",
    "ax.set_title('ACT participation rates')\n",
    "sns.distplot(df.Participation_ACT, bins=10, color=act_color, kde=False, ax=ax)\n",
    "#, hist_kws={\"color\": current_palette})\n",
    "ax.set_xlabel('Participation Rates')    \n",
    "ax.set_ylabel('Number of states');\n"
   ]
  },
  {
   "cell_type": "markdown",
   "metadata": {},
   "source": [
    "##### <span style='color:#35aca4'>B. Plot the Math(s) distributions from both data sets.</span>"
   ]
  },
  {
   "cell_type": "code",
   "execution_count": 23,
   "metadata": {},
   "outputs": [
    {
     "data": {
      "image/png": "[encoded data removed]",
      "text/plain": [
       "<Figure size 1080x720 with 4 Axes>"
      ]
     },
     "metadata": {},
     "output_type": "display_data"
    }
   ],
   "source": [
    "# Set up the matplotlib figure\n",
    "f, axes = plt.subplots(2,2 , figsize=(15, 10))\n",
    "sns.despine(left=True)\n",
    "plt.subplots_adjust(hspace = .5)\n",
    "\n",
    "ax=axes[0,0]\n",
    "ax.set_title('Math SAT scores')\n",
    "sns.distplot(df.Math_SAT, bins=10, color=sat_color,kde=False, ax=ax)\n",
    "ax.set_xlabel('Math Scores');\n",
    "\n",
    "ax=axes[0,1]\n",
    "ax.set_title('Math ACT scores')\n",
    "sns.distplot(df.Math_ACT, bins=10, color=act_color,kde=False, ax=ax)\n",
    "ax.set_xlabel('Math Scores');\n",
    "\n",
    "ax=axes[1,0]\n",
    "ax.set_title('Science ACT scores')\n",
    "sns.distplot(df.Science_ACT, bins=10, color=act_color,kde=False, ax=ax)\n",
    "ax.set_xlabel('Science Scores');\n",
    "\n",
    "ax=axes[1,1]\n",
    "ax.set_visible(False)"
   ]
  },
  {
   "cell_type": "markdown",
   "metadata": {},
   "source": [
    "##### <span style='color:#35aca4'>C. Plot the Verbal distributions from both data sets.</span>"
   ]
  },
  {
   "cell_type": "code",
   "execution_count": 24,
   "metadata": {},
   "outputs": [
    {
     "data": {
      "image/png": "[encoded data removed]",
      "text/plain": [
       "<Figure size 1080x720 with 4 Axes>"
      ]
     },
     "metadata": {},
     "output_type": "display_data"
    }
   ],
   "source": [
    "# Set up the matplotlib figure\n",
    "f, axes = plt.subplots(2,2, figsize=(15, 10))\n",
    "sns.despine(left=True)\n",
    "plt.subplots_adjust(hspace = .5)\n",
    "\n",
    "ax=axes[0,0]\n",
    "ax.set_title('EBRW SAT scores');\n",
    "sns.distplot(df.EBRW_SAT, bins=20, color=sat_color, kde=False, ax=ax);\n",
    "ax.set_xlabel('EBRW SAT Scores');\n",
    "\n",
    "ax=axes[0,1]\n",
    "ax.set_title('English ACT scores')\n",
    "sns.distplot(df.English_ACT, bins=10, color=act_color,kde=False, ax=ax)\n",
    "ax.set_xlabel('English ACT Scores');\n",
    "\n",
    "ax=axes[1,0]\n",
    "ax.set_title('Reading ACT scores');\n",
    "sns.distplot(df.Reading_ACT, bins=20, color=act_color, kde=False, ax=ax);\n",
    "ax.set_xlabel('Reading ACT scores');\n",
    "\n",
    "ax=axes[1,1]\n",
    "ax.set_visible(False)"
   ]
  },
  {
   "cell_type": "code",
   "execution_count": 25,
   "metadata": {},
   "outputs": [
    {
     "data": {
      "image/png": "[encoded data removed]",
      "text/plain": [
       "<Figure size 1080x360 with 2 Axes>"
      ]
     },
     "metadata": {},
     "output_type": "display_data"
    }
   ],
   "source": [
    "# Set up the matplotlib figure\n",
    "f, axes = plt.subplots(ncols=2, figsize=(15, 5))\n",
    "sns.despine(left=True)\n",
    "plt.subplots_adjust(hspace = .5)\n",
    "\n",
    "ax=axes[0]\n",
    "ax.set_title('Total SAT scores')\n",
    "sns.distplot(df.Total_SAT, bins=10, color=sat_color, kde=False, ax=ax);\n",
    "ax.set_xlabel('Total Scores');\n",
    "\n",
    "ax=axes[1]\n",
    "ax.set_title('Composite ACT scores');\n",
    "sns.distplot(df.Composite_ACT, bins=10, color=act_color, kde=False, ax=ax);\n",
    "ax.set_xlabel('Composite Scores');"
   ]
  },
  {
   "cell_type": "markdown",
   "metadata": {},
   "source": [
    "##### <span style='color:#35aca4'>D. When we make assumptions about how data are distributed, what is the most common assumption? Does this assumption hold true for any of our columns? Which?</span>"
   ]
  },
  {
   "cell_type": "markdown",
   "metadata": {
    "collapsed": true
   },
   "source": [
    "<span style='color:#38a7d0'>The most common assumption is that the data is normally distributed. This somesn't seem to hold true for any of our columns.</span>"
   ]
  },
  {
   "cell_type": "markdown",
   "metadata": {},
   "source": [
    "##### <span style='color:#35aca4'>E. Plot some scatterplots examining relationships between all variables.</span>"
   ]
  },
  {
   "cell_type": "code",
   "execution_count": 26,
   "metadata": {
    "scrolled": true
   },
   "outputs": [
    {
     "data": {
      "image/png": "[encoded data removed]",
      "text/plain": [
       "<Figure size 1080x1080 with 6 Axes>"
      ]
     },
     "metadata": {},
     "output_type": "display_data"
    }
   ],
   "source": [
    "# Set up the matplotlib figure\n",
    "f, axes = plt.subplots(3,2, figsize=(15, 15))\n",
    "sns.despine(left=True)\n",
    "plt.subplots_adjust(hspace = .5)\n",
    "\n",
    "ax=axes[0,0]\n",
    "ax.set_title(\"Participation rates by state\");\n",
    "sns.regplot(x=\"Participation_SAT\", y=\"Participation_ACT\", data=df, color=reg_color, ax=ax)\n",
    "ax.set_xlabel(\"SAT\")\n",
    "ax.set_ylabel(\"ACT\")\n",
    "\n",
    "ax=axes[0,1]\n",
    "ax.set_title(\"Participation counts by state\");\n",
    "sns.regplot(x=\"Participation_SAT_count\", y=\"Participation_ACT_count\", data=df, color=reg2_color, ax=ax);\n",
    "ax.set_xlabel(\"SAT\")\n",
    "ax.set_ylabel(\"ACT\")\n",
    "\n",
    "ax=axes[1,0]\n",
    "ax.set_title(\"English score comparison for SAT vs ACT\");\n",
    "ax.scatter(df.EBRW_SAT, df.English_ACT, color=reg_color)\n",
    "ax.scatter(df.EBRW_SAT, df.Reading_ACT, color=reg2_color)\n",
    "ax.set_xlabel(\"SAT EBRW\")\n",
    "ax.set_ylabel(\"ACT English and Reading\")\n",
    "ax.legend()\n",
    "\n",
    "ax=axes[1,1]\n",
    "ax.set_title(\"Math score comparison for each state\");\n",
    "ax.scatter(df.Math_SAT, df.Math_ACT, color=reg_color)\n",
    "ax.scatter(df.Math_SAT, df.Science_ACT, color=reg2_color)\n",
    "ax.set_xlabel(\"SAT Math\")\n",
    "ax.set_ylabel(\"ACT Math and ScienceT\");\n",
    "ax.legend()\n",
    "\n",
    "ax=axes[2,0]\n",
    "ax.set_title(\"Overall score comparison by state\");\n",
    "ax.scatter(df.Total_SAT, df.Composite_ACT, color=reg_color)\n",
    "ax.set_xlabel(\"Total SAT\")\n",
    "ax.set_ylabel(\"Composite ACT\")\n",
    "ax.legend()\n",
    "\n",
    "ax=axes[2,1]\n",
    "ax.set_visible(False)\n"
   ]
  },
  {
   "cell_type": "code",
   "execution_count": 27,
   "metadata": {},
   "outputs": [
    {
     "data": {
      "image/png": "[encoded data removed]",
      "text/plain": [
       "<Figure size 1080x360 with 2 Axes>"
      ]
     },
     "metadata": {},
     "output_type": "display_data"
    }
   ],
   "source": [
    "# Set up the matplotlib figure\n",
    "f, axes = plt.subplots(ncols=2, figsize=(15, 5))\n",
    "sns.despine(left=True)\n",
    "plt.subplots_adjust(hspace = .5)\n",
    "\n",
    "ax=axes[0]\n",
    "ax.set_title('SAT score comparisions')\n",
    "ax.scatter(df.Total_SAT, df.EBRW_SAT, color=reg_color);\n",
    "ax.scatter(df.Total_SAT, df.Math_SAT, color=reg2_color)\n",
    "ax.set_xlabel('Total SAT');\n",
    "ax.set_ylabel(\"Section scores\")\n",
    "ax.legend()\n",
    "\n",
    "ax=axes[1]\n",
    "ax.set_title('ACT score comparision');\n",
    "ax.scatter(df.Composite_ACT, df.English_ACT, color=sat_color);\n",
    "ax.scatter(df.Composite_ACT, df.Math_ACT, color=act_color)\n",
    "ax.scatter(df.Composite_ACT, df.Science_ACT, color=reg_color)\n",
    "ax.scatter(df.Composite_ACT, df.Reading_ACT, color=reg2_color)\n",
    "ax.set_xlabel('Composite ACT');\n",
    "ax.legend();\n"
   ]
  },
  {
   "cell_type": "code",
   "execution_count": 28,
   "metadata": {},
   "outputs": [
    {
     "data": {
      "image/png": "[encoded data removed]",
      "text/plain": [
       "<Figure size 1080x360 with 2 Axes>"
      ]
     },
     "metadata": {},
     "output_type": "display_data"
    }
   ],
   "source": [
    "\n",
    "# Set up the matplotlib figure\n",
    "f, axes = plt.subplots(ncols=2, figsize=(15, 5))\n",
    "sns.despine(left=True)\n",
    "plt.subplots_adjust(hspace = .5)\n",
    "\n",
    "ax=axes[0]\n",
    "ax.set_title('SAT total score to participation rates');\n",
    "sns.regplot(x=\"Participation_SAT\", y=\"Total_SAT\", data=df, color=sat_color, scatter=True, ax=ax)\n",
    "ax.set_xlabel('Participation rate')\n",
    "ax.set_ylabel(\"Total SAT scores\")\n",
    "\n",
    "ax=axes[1]\n",
    "ax.set_title(\"ACT composite to participation rates\")\n",
    "sns.regplot(x=\"Participation_ACT\", y=\"Composite_ACT\", data=df, color=act_color, scatter=True, ax=ax)\n",
    "ax.set_xlabel(\"Participation rate\")\n",
    "ax.set_ylabel(\"Composite ACT scores\");\n"
   ]
  },
  {
   "cell_type": "code",
   "execution_count": 29,
   "metadata": {
    "scrolled": true
   },
   "outputs": [],
   "source": [
    "# While fun, this doens't add much to our observations\n",
    "# sns.pairplot(df);"
   ]
  },
  {
   "cell_type": "markdown",
   "metadata": {},
   "source": [
    "##### <span style='color:#35aca4'>F. Are there any interesting relationships to note?</span>"
   ]
  },
  {
   "cell_type": "markdown",
   "metadata": {
    "collapsed": true
   },
   "source": [
    "* <span style='color:#38a7d0'>The states with higher participation rates have lower average scores.</span>\n",
    "* <span style='color:#38a7d0'>Participation rates of the two tests are inversely correlated.</span> \n",
    "* <span style='color:#38a7d0'>Additionaly, the scores on the sections of the SAT are positively correlated with the total score (not surprising).</span>\n",
    "\n",
    "* <span style='color:#38a7d0'>While I added approximate enrollment data, I did not have time to fully explore relationships between enrollment and the other data.</span>"
   ]
  },
  {
   "cell_type": "markdown",
   "metadata": {},
   "source": [
    "##### <span style='color:#35aca4'>G. Create box plots for each variable.</span>"
   ]
  },
  {
   "cell_type": "code",
   "execution_count": 30,
   "metadata": {
    "scrolled": true
   },
   "outputs": [
    {
     "data": {
      "image/png": "[encoded data removed]",
      "text/plain": [
       "<Figure size 1080x360 with 2 Axes>"
      ]
     },
     "metadata": {},
     "output_type": "display_data"
    }
   ],
   "source": [
    "ACT_scores = [\"Math_ACT\", \"English_ACT\", \"Reading_ACT\", \"Science_ACT\", \"Composite_ACT\"]\n",
    "SAT_scores = [\"Math_SAT\", \"EBRW_SAT\"]\n",
    "participation_rates = [\"Participation_SAT\", \"Participation_ACT\"]\n",
    "\n",
    "# Set up the matplotlib figure\n",
    "f, axes = plt.subplots(ncols=2, figsize=(15, 5))\n",
    "sns.despine(left=True)\n",
    "plt.subplots_adjust(hspace = .5)\n",
    "\n",
    "ax=axes[0]\n",
    "ax.set_title(\"SAT Scores\")\n",
    "df.boxplot(SAT_scores, ax=ax)\n",
    "\n",
    "ax=axes[1]\n",
    "ax.set_title(\"ACT Scores\")\n",
    "df.boxplot(ACT_scores, ax=ax);"
   ]
  },
  {
   "cell_type": "code",
   "execution_count": 31,
   "metadata": {},
   "outputs": [
    {
     "data": {
      "image/png": "[encoded data removed]",
      "text/plain": [
       "<Figure size 432x288 with 1 Axes>"
      ]
     },
     "metadata": {},
     "output_type": "display_data"
    }
   ],
   "source": [
    "# Compare participation rates\n",
    "plt.title(\"participation_rates\")\n",
    "df.boxplot(participation_rates);"
   ]
  },
  {
   "cell_type": "markdown",
   "metadata": {},
   "source": [
    "##### <span style='color:#35aca4'>H. Create a US heat map for participation rates by state.</span>"
   ]
  },
  {
   "cell_type": "code",
   "execution_count": 32,
   "metadata": {},
   "outputs": [],
   "source": [
    "# Modified from example code from plotly\n",
    "\n",
    "import plotly\n",
    "import plotly.plotly as py\n",
    "import pandas as pd\n",
    "\n",
    "plotly.tools.set_credentials_file(username='gbkgwyneth', api_key='NS01qFBPZLMjc5Kb6AEa')\n",
    "\n",
    "scl = [[0.0, 'rgb(147, 208, 191)'],[0.2, 'rgb(114, 191, 196)'],[0.4, 'rgb(82, 174, 201)'],\\\n",
    "             [0.6, 'rgb(64, 149, 181)'],[0.8, 'rgb(59, 116, 138)'],[1.0, 'rgb(55, 83, 94)']]\n",
    "\n",
    "# From Stack Overflow\n",
    "# https://stackoverflow.com/questions/48979352/choropleth-map-in-python-using-plotly-without-state-codes\n",
    "state_codes = {\n",
    "    'District of Columbia' : 'DC','Mississippi': 'MS', 'Oklahoma': 'OK', \n",
    "    'Delaware': 'DE', 'Minnesota': 'MN', 'Illinois': 'IL', 'Arkansas': 'AR', \n",
    "    'New Mexico': 'NM', 'Indiana': 'IN', 'Maryland': 'MD', 'Louisiana': 'LA', \n",
    "    'Idaho': 'ID', 'Wyoming': 'WY', 'Tennessee': 'TN', 'Arizona': 'AZ', \n",
    "    'Iowa': 'IA', 'Michigan': 'MI', 'Kansas': 'KS', 'Utah': 'UT', \n",
    "    'Virginia': 'VA', 'Oregon': 'OR', 'Connecticut': 'CT', 'Montana': 'MT', \n",
    "    'California': 'CA', 'Massachusetts': 'MA', 'West Virginia': 'WV', \n",
    "    'South Carolina': 'SC', 'New Hampshire': 'NH', 'Wisconsin': 'WI',\n",
    "    'Vermont': 'VT', 'Georgia': 'GA', 'North Dakota': 'ND', \n",
    "    'Pennsylvania': 'PA', 'Florida': 'FL', 'Alaska': 'AK', 'Kentucky': 'KY', \n",
    "    'Hawaii': 'HI', 'Nebraska': 'NE', 'Missouri': 'MO', 'Ohio': 'OH', \n",
    "    'Alabama': 'AL', 'Rhode Island': 'RI', 'South Dakota': 'SD', \n",
    "    'Colorado': 'CO', 'New Jersey': 'NJ', 'Washington': 'WA', \n",
    "    'North Carolina': 'NC', 'New York': 'NY', 'Texas': 'TX', \n",
    "    'Nevada': 'NV', 'Maine': 'ME'}\n",
    "\n",
    "state_df = pd.DataFrame.from_dict(state_codes, orient='index')\n",
    "\n",
    "state_df.rename(columns={ 0:'Code'}, inplace=True)\n",
    "df_heat = pd.concat([df,state_df], axis=1)\n",
    "for col in df_heat.columns:\n",
    "     df_heat[col] = df_heat[col].astype(str)\n",
    "\n",
    "def heatmap(df, col, title, scl):\n",
    "    data = [ dict(\n",
    "             type='choropleth',\n",
    "             colorscale = scl,\n",
    "             autocolorscale = False,\n",
    "             locations = df['Code'],\n",
    "             z = df[col].astype(float),\n",
    "             locationmode = 'USA-states',\n",
    "             text = df['Code'],\n",
    "             marker = dict(\n",
    "                line = dict (\n",
    "                    color = 'rgb(255,255,255)',\n",
    "                    width = 2\n",
    "                ) ),\n",
    "            colorbar = dict(\n",
    "                title = \"Rate\")\n",
    "            ) ]\n",
    "\n",
    "    layout = dict(\n",
    "            title = title,\n",
    "            geo = dict(\n",
    "                scope='usa',\n",
    "                projection=dict( type='albers usa' ),\n",
    "                showlakes = True,\n",
    "                lakecolor = 'rgb(255, 255, 255)'),\n",
    "                 )\n",
    "\n",
    "    fig = dict( data=data, layout=layout )\n",
    "    \n",
    "    return fig"
   ]
  },
  {
   "cell_type": "markdown",
   "metadata": {},
   "source": [
    "##### <span style='color:#35aca4'>SAT Participation Rate by State</span>"
   ]
  },
  {
   "cell_type": "code",
   "execution_count": 46,
   "metadata": {},
   "outputs": [
    {
     "name": "stdout",
     "output_type": "stream",
     "text": [
      "High five! You successfully sent some data to your account on plotly. View your plot in your browser at https://plot.ly/~gbkgwyneth/0 or inside your plot.ly account where it is named 'd3-cloropleth-map'\n"
     ]
    },
    {
     "data": {
      "text/html": [
       "<iframe id=\"igraph\" scrolling=\"no\" style=\"border:none;\" seamless=\"seamless\" src=\"https://plot.ly/~gbkgwyneth/0.embed\" height=\"525px\" width=\"100%\"></iframe>"
      ],
      "text/plain": [
       "<plotly.tools.PlotlyDisplay object>"
      ]
     },
     "execution_count": 46,
     "metadata": {},
     "output_type": "execute_result"
    }
   ],
   "source": [
    "fig_sat = heatmap(df_heat,\"Participation_SAT\", 'SAT Participation Rate by State', scl)\n",
    "py.iplot( fig_sat, filename='d3-cloropleth-map' )"
   ]
  },
  {
   "cell_type": "markdown",
   "metadata": {},
   "source": [
    "##### <span style='color:#35aca4'>ACT Participation Rate by State</span>"
   ]
  },
  {
   "cell_type": "code",
   "execution_count": 47,
   "metadata": {},
   "outputs": [
    {
     "name": "stdout",
     "output_type": "stream",
     "text": [
      "High five! You successfully sent some data to your account on plotly. View your plot in your browser at https://plot.ly/~gbkgwyneth/0 or inside your plot.ly account where it is named 'd3-cloropleth-map'\n"
     ]
    },
    {
     "data": {
      "text/html": [
       "<iframe id=\"igraph\" scrolling=\"no\" style=\"border:none;\" seamless=\"seamless\" src=\"https://plot.ly/~gbkgwyneth/0.embed\" height=\"525px\" width=\"100%\"></iframe>"
      ],
      "text/plain": [
       "<plotly.tools.PlotlyDisplay object>"
      ]
     },
     "execution_count": 47,
     "metadata": {},
     "output_type": "execute_result"
    }
   ],
   "source": [
    "fig_act = heatmap(df_heat,\"Participation_ACT\", 'ACT Participation Rate by State', scl)\n",
    "py.iplot( fig_act, filename='d3-cloropleth-map' )"
   ]
  },
  {
   "cell_type": "markdown",
   "metadata": {},
   "source": [
    "##### <span style='color:#35aca4'>SAT Participation Count by State</span>"
   ]
  },
  {
   "cell_type": "code",
   "execution_count": 48,
   "metadata": {},
   "outputs": [
    {
     "name": "stdout",
     "output_type": "stream",
     "text": [
      "High five! You successfully sent some data to your account on plotly. View your plot in your browser at https://plot.ly/~gbkgwyneth/0 or inside your plot.ly account where it is named 'd3-cloropleth-map'\n"
     ]
    },
    {
     "data": {
      "text/html": [
       "<iframe id=\"igraph\" scrolling=\"no\" style=\"border:none;\" seamless=\"seamless\" src=\"https://plot.ly/~gbkgwyneth/0.embed\" height=\"525px\" width=\"100%\"></iframe>"
      ],
      "text/plain": [
       "<plotly.tools.PlotlyDisplay object>"
      ]
     },
     "execution_count": 48,
     "metadata": {},
     "output_type": "execute_result"
    }
   ],
   "source": [
    "fig_sat_count = heatmap(df_heat,\"Participation_SAT_count\", 'SAT Participation Count by State', scl)\n",
    "py.iplot( fig_sat_count, filename='d3-cloropleth-map' )"
   ]
  },
  {
   "cell_type": "markdown",
   "metadata": {},
   "source": [
    "##### <span style='color:#35aca4'>ACT Participation Count by State</span>"
   ]
  },
  {
   "cell_type": "code",
   "execution_count": 49,
   "metadata": {},
   "outputs": [
    {
     "name": "stdout",
     "output_type": "stream",
     "text": [
      "High five! You successfully sent some data to your account on plotly. View your plot in your browser at https://plot.ly/~gbkgwyneth/0 or inside your plot.ly account where it is named 'd3-cloropleth-map'\n"
     ]
    },
    {
     "data": {
      "text/html": [
       "<iframe id=\"igraph\" scrolling=\"no\" style=\"border:none;\" seamless=\"seamless\" src=\"https://plot.ly/~gbkgwyneth/0.embed\" height=\"525px\" width=\"100%\"></iframe>"
      ],
      "text/plain": [
       "<plotly.tools.PlotlyDisplay object>"
      ]
     },
     "execution_count": 49,
     "metadata": {},
     "output_type": "execute_result"
    }
   ],
   "source": [
    "fig_act_count = heatmap(df_heat,\"Participation_ACT_count\", 'ACT Participation Count by State', scl)\n",
    "py.iplot( fig_act_count, filename='d3-cloropleth-map' )"
   ]
  },
  {
   "cell_type": "markdown",
   "metadata": {},
   "source": [
    "##### <span style='color:#35aca4'>Enrollment by State</span>"
   ]
  },
  {
   "cell_type": "code",
   "execution_count": 50,
   "metadata": {},
   "outputs": [
    {
     "name": "stdout",
     "output_type": "stream",
     "text": [
      "High five! You successfully sent some data to your account on plotly. View your plot in your browser at https://plot.ly/~gbkgwyneth/0 or inside your plot.ly account where it is named 'd3-cloropleth-map'\n"
     ]
    },
    {
     "data": {
      "text/html": [
       "<iframe id=\"igraph\" scrolling=\"no\" style=\"border:none;\" seamless=\"seamless\" src=\"https://plot.ly/~gbkgwyneth/0.embed\" height=\"525px\" width=\"100%\"></iframe>"
      ],
      "text/plain": [
       "<plotly.tools.PlotlyDisplay object>"
      ]
     },
     "execution_count": 50,
     "metadata": {},
     "output_type": "execute_result"
    }
   ],
   "source": [
    "fig_enroll = heatmap(df_heat,\"Enroll\", 'Enrollment by State', scl)\n",
    "py.iplot( fig_enroll, filename='d3-cloropleth-map' )"
   ]
  },
  {
   "cell_type": "markdown",
   "metadata": {},
   "source": [
    "<span style='color:#f67088'>**New Hampshire and Vermot did not provide data, so they are colored with black.**</span>"
   ]
  },
  {
   "cell_type": "markdown",
   "metadata": {},
   "source": [
    "<hr>\n",
    " <a name=\"step4\"></a>\n",
    "## <span style='color:#32b165'>IV. Descriptive and Inferential Statistics</span>"
   ]
  },
  {
   "cell_type": "markdown",
   "metadata": {},
   "source": [
    "##### <span style='color:#35aca4'>A. Summarize each distribution. As data scientists, be sure to back up these summaries with statistics. (Hint: What are the three things we care about when describing distributions?)</span>"
   ]
  },
  {
   "cell_type": "code",
   "execution_count": 38,
   "metadata": {},
   "outputs": [
    {
     "data": {
      "text/html": [
       "<div>\n",
       "<style scoped>\n",
       "    .dataframe tbody tr th:only-of-type {\n",
       "        vertical-align: middle;\n",
       "    }\n",
       "\n",
       "    .dataframe tbody tr th {\n",
       "        vertical-align: top;\n",
       "    }\n",
       "\n",
       "    .dataframe thead th {\n",
       "        text-align: right;\n",
       "    }\n",
       "</style>\n",
       "<table border=\"1\" class=\"dataframe\">\n",
       "  <thead>\n",
       "    <tr style=\"text-align: right;\">\n",
       "      <th></th>\n",
       "      <th>Mean</th>\n",
       "      <th>Std Dev</th>\n",
       "    </tr>\n",
       "  </thead>\n",
       "  <tbody>\n",
       "    <tr>\n",
       "      <th>Participation_SAT</th>\n",
       "      <td>38.244898</td>\n",
       "      <td>34.921657</td>\n",
       "    </tr>\n",
       "    <tr>\n",
       "      <th>EBRW_SAT</th>\n",
       "      <td>570.020408</td>\n",
       "      <td>46.279265</td>\n",
       "    </tr>\n",
       "    <tr>\n",
       "      <th>Math_SAT</th>\n",
       "      <td>557.755102</td>\n",
       "      <td>47.781853</td>\n",
       "    </tr>\n",
       "    <tr>\n",
       "      <th>Total_SAT</th>\n",
       "      <td>1127.857143</td>\n",
       "      <td>93.761222</td>\n",
       "    </tr>\n",
       "    <tr>\n",
       "      <th>Participation_ACT</th>\n",
       "      <td>66.959184</td>\n",
       "      <td>31.610230</td>\n",
       "    </tr>\n",
       "    <tr>\n",
       "      <th>English_ACT</th>\n",
       "      <td>20.791837</td>\n",
       "      <td>2.284261</td>\n",
       "    </tr>\n",
       "    <tr>\n",
       "      <th>Math_ACT</th>\n",
       "      <td>21.063265</td>\n",
       "      <td>1.918625</td>\n",
       "    </tr>\n",
       "    <tr>\n",
       "      <th>Reading_ACT</th>\n",
       "      <td>21.883673</td>\n",
       "      <td>1.996178</td>\n",
       "    </tr>\n",
       "    <tr>\n",
       "      <th>Science_ACT</th>\n",
       "      <td>21.357143</td>\n",
       "      <td>1.697670</td>\n",
       "    </tr>\n",
       "    <tr>\n",
       "      <th>Composite_ACT</th>\n",
       "      <td>21.395918</td>\n",
       "      <td>1.953838</td>\n",
       "    </tr>\n",
       "    <tr>\n",
       "      <th>Enroll</th>\n",
       "      <td>72622.262166</td>\n",
       "      <td>85052.586064</td>\n",
       "    </tr>\n",
       "    <tr>\n",
       "      <th>Participation_SAT_count</th>\n",
       "      <td>33227.145699</td>\n",
       "      <td>55269.378465</td>\n",
       "    </tr>\n",
       "    <tr>\n",
       "      <th>Participation_ACT_count</th>\n",
       "      <td>43152.486641</td>\n",
       "      <td>41258.103009</td>\n",
       "    </tr>\n",
       "  </tbody>\n",
       "</table>\n",
       "</div>"
      ],
      "text/plain": [
       "                                 Mean       Std Dev\n",
       "Participation_SAT           38.244898     34.921657\n",
       "EBRW_SAT                   570.020408     46.279265\n",
       "Math_SAT                   557.755102     47.781853\n",
       "Total_SAT                 1127.857143     93.761222\n",
       "Participation_ACT           66.959184     31.610230\n",
       "English_ACT                 20.791837      2.284261\n",
       "Math_ACT                    21.063265      1.918625\n",
       "Reading_ACT                 21.883673      1.996178\n",
       "Science_ACT                 21.357143      1.697670\n",
       "Composite_ACT               21.395918      1.953838\n",
       "Enroll                   72622.262166  85052.586064\n",
       "Participation_SAT_count  33227.145699  55269.378465\n",
       "Participation_ACT_count  43152.486641  41258.103009"
      ]
     },
     "execution_count": 38,
     "metadata": {},
     "output_type": "execute_result"
    }
   ],
   "source": [
    "# The center, the shape, and the spread.\n",
    "mu=pd.Series(df.mean(), name=\"Mean\")\n",
    "std = pd.Series(df.std(), name=\"Std Dev\")\n",
    "pd.concat([mu,std], axis=1)"
   ]
  },
  {
   "cell_type": "markdown",
   "metadata": {},
   "source": [
    "<span style='color:#38a7d0'>The distributions of the scores and participation rates are not normal and not close to uniform. I would like to have more data.</span>"
   ]
  },
  {
   "cell_type": "markdown",
   "metadata": {},
   "source": [
    "##### <span style='color:#35aca4'>B. Summarize each relationship. Be sure to back up these summaries with statistics.</span>"
   ]
  },
  {
   "cell_type": "markdown",
   "metadata": {
    "collapsed": true
   },
   "source": [
    "<span style='color:#38a7d0'>There is an inverse relationship between participation rates of the two tests. Also, average section scores on the tests are related to the average overall scores by state.</span>"
   ]
  },
  {
   "cell_type": "markdown",
   "metadata": {},
   "source": [
    "##### <span style='color:#35aca4'>C. Execute a hypothesis test comparing the SAT and ACT participation rates. Use $\\alpha = 0.05$. Be sure to interpret your results.</span>"
   ]
  },
  {
   "cell_type": "code",
   "execution_count": 39,
   "metadata": {},
   "outputs": [
    {
     "name": "stdout",
     "output_type": "stream",
     "text": [
      "The t-statistic is 4.267209377921401.\n",
      "The p-value is 4.643980268715058e-05.\n"
     ]
    }
   ],
   "source": [
    "t_stat, p_value = stats.ttest_ind(df.Participation_ACT,df.Participation_SAT)\n",
    "print(\"The t-statistic is {}.\".format(t_stat))\n",
    "print(\"The p-value is {}.\".format(p_value))"
   ]
  },
  {
   "cell_type": "markdown",
   "metadata": {},
   "source": [
    "##### <span style='color:#35aca4'>D. Plot the confidence interval</span>"
   ]
  },
  {
   "cell_type": "code",
   "execution_count": 40,
   "metadata": {},
   "outputs": [
    {
     "data": {
      "image/png": "[encoded data removed]",
      "text/plain": [
       "<Figure size 576x360 with 1 Axes>"
      ]
     },
     "metadata": {},
     "output_type": "display_data"
    }
   ],
   "source": [
    "# Plot the confidence interval\n",
    "\n",
    "# Taken from lecture notebook\n",
    "# Generate points on the x axis between -4 and 4:\n",
    "xpoints = np.linspace(-4, 4, 500)\n",
    "\n",
    "# Use `stats.t.pdf` to get values on the probability density function for the t-distribution.\n",
    "# The second argument is the degrees of freedom: n1 + n2 - 2.\n",
    "ypoints = stats.t.pdf(xpoints, \n",
    "                      len(df.Participation_ACT)+len(df.Participation_SAT) - 2,\n",
    "                      0, 1)\n",
    "\n",
    "# Initialize a `matplotlib` \"figure.\"\n",
    "fig = plt.figure(figsize=(8,5))\n",
    "\n",
    "# Get the current \"axis\" out of the figure.\n",
    "ax = fig.gca()\n",
    "\n",
    "# Plot the lines using `matplotlib`'s plot function:\n",
    "ax.plot(xpoints, ypoints, linewidth=3, color=reg2_color)\n",
    "\n",
    "# Plot a vertical line for our measured difference in rates' t-statistic.\n",
    "ax.axvline(t_stat, color=reg_color, linestyle='--', lw=5)\n",
    "ax.axvline(-t_stat, color=reg_color, linestyle='--', lw=5);"
   ]
  },
  {
   "cell_type": "markdown",
   "metadata": {},
   "source": [
    "<span style='color:#38a7d0'>Since the <span style=\"font-family:monospace\">p_vale</span> is small, we can reject the null hypothesis here. There is a correlation between the participation rates in the ACT and the SAT. In states where ACT participation is high, SAT participation is low.</span>"
   ]
  },
  {
   "cell_type": "markdown",
   "metadata": {},
   "source": [
    "##### <span style='color:#35aca4'>E. Generate and interpret 95% confidence intervals for SAT and ACT participation rates.</span>"
   ]
  },
  {
   "cell_type": "code",
   "execution_count": 41,
   "metadata": {},
   "outputs": [
    {
     "name": "stdout",
     "output_type": "stream",
     "text": [
      "The 95% confidence interval for the participation of the ACT is [58.10848194560994,75.80988540132883].\n"
     ]
    }
   ],
   "source": [
    "n = df.shape[0]\n",
    "participation_act_mean = df['Participation_ACT'].mean()\n",
    "participation_act_std_error = df['Participation_ACT'].std()/np.sqrt(n)\n",
    "\n",
    "interval_act = stats.norm.interval(0.95, participation_act_mean, participation_act_std_error)\n",
    "print(\"The 95% confidence interval for the participation of the ACT is [{},{}].\".format(interval_act[0],interval_act[1]))"
   ]
  },
  {
   "cell_type": "code",
   "execution_count": 42,
   "metadata": {},
   "outputs": [
    {
     "name": "stdout",
     "output_type": "stream",
     "text": [
      "The 95% confidence interval for the participation rate of the SAT is [28.46701374869913,48.02278216966822].\n"
     ]
    }
   ],
   "source": [
    "participation_sat_mean = df['Participation_SAT'].mean()\n",
    "participation_sat_std_error = df['Participation_SAT'].std()/np.sqrt(n)\n",
    "\n",
    "interval_sat = stats.norm.interval(0.95, participation_sat_mean, participation_sat_std_error)\n",
    "print(\"The 95% confidence interval for the participation rate of the SAT is [{},{}].\".format(interval_sat[0],interval_sat[1]))"
   ]
  },
  {
   "cell_type": "markdown",
   "metadata": {},
   "source": [
    "<span style='color:#38a7d0'>This is not good data to use since the populations of the states vary so greatly. Without including the enrollment data in the analysis, the test here lacks much meaning.</span>"
   ]
  },
  {
   "cell_type": "markdown",
   "metadata": {},
   "source": [
    "##### <span style='color:#35aca4'>F. Given your answer to 26, was your answer to 27 surprising? Why?</span>"
   ]
  },
  {
   "cell_type": "markdown",
   "metadata": {
    "collapsed": true
   },
   "source": [
    "<span style='color:#38a7d0'>I'm not sure what the confidence intervals for the state participation rates for the SAT and ACT reflect, beacuse the data is not normalized by population sizes.</span>"
   ]
  },
  {
   "cell_type": "markdown",
   "metadata": {},
   "source": [
    "##### <span style='color:#35aca4'>G. Is it appropriate to generate correlation between SAT and ACT math scores? Why?</span>"
   ]
  },
  {
   "cell_type": "code",
   "execution_count": 43,
   "metadata": {},
   "outputs": [
    {
     "data": {
      "text/plain": [
       "array([ 81309.])"
      ]
     },
     "execution_count": 43,
     "metadata": {},
     "output_type": "execute_result"
    }
   ],
   "source": [
    "np.correlate(df.Participation_ACT, df.Participation_SAT)"
   ]
  },
  {
   "cell_type": "markdown",
   "metadata": {},
   "source": [
    "<span style='color:#38a7d0'>Did you say correlations? Let's make a heat map!</span>"
   ]
  },
  {
   "cell_type": "code",
   "execution_count": 44,
   "metadata": {},
   "outputs": [
    {
     "data": {
      "image/png": "[encoded data removed]",
      "text/plain": [
       "<Figure size 720x720 with 2 Axes>"
      ]
     },
     "metadata": {},
     "output_type": "display_data"
    }
   ],
   "source": [
    "# Heat map of colmns \n",
    "cols = ['Enroll','Participation_SAT','Participation_SAT_count','Participation_ACT','Participation_ACT_count','Total_SAT','Composite_ACT',]\n",
    "colors = sns.color_palette(\"GnBu_d\", 8)\n",
    "plt.figure(figsize=(10,10))\n",
    "sns.set_palette(colors)\n",
    "# sns.heatmap(df_train[top_corr].corr(),vmin=-1,vmax=1, cmap = colors);\n",
    "sns.heatmap(df[cols].corr(),vmin=-1,vmax=1, cmap = colors, annot=True);\n"
   ]
  },
  {
   "cell_type": "markdown",
   "metadata": {},
   "source": [
    "<span style='color:#38a7d0'>Maybe for states that have similar participation rates for both tests it would be appropriate to generate the correlation. But since states with high rates of participation have lower scores in general, it is probably not appropriate to compare in states where the participation rates are very different.</span>"
   ]
  },
  {
   "cell_type": "markdown",
   "metadata": {},
   "source": [
    "##### <span style='color:#35aca4'>H. Suppose we only seek to understand the relationship between SAT and ACT data in 2017. Does it make sense to conduct statistical inference given the data we have? Why?</span>"
   ]
  },
  {
   "cell_type": "markdown",
   "metadata": {
    "collapsed": true
   },
   "source": [
    "<span style='color:#38a7d0'>The samples are not random, so I think that statistical inference is not appropriate.</span>"
   ]
  },
  {
   "cell_type": "code",
   "execution_count": 45,
   "metadata": {},
   "outputs": [
    {
     "data": {
      "image/png": "[encoded data removed]",
      "text/plain": [
       "<Figure size 576x72 with 1 Axes>"
      ]
     },
     "metadata": {},
     "output_type": "display_data"
    }
   ],
   "source": [
    "# Setting up colors for the notebook\n",
    "sns.palplot(sns.color_palette(\"husl\", 8))\n",
    "colors = ['#f67088', '#ce8f31', '#96a331', '#32b165', '#35aca4', '#38a7d0', '#a38cf4', '#f461dd']"
   ]
  },
  {
   "cell_type": "code",
   "execution_count": null,
   "metadata": {},
   "outputs": [],
   "source": []
  }
 ],
 "metadata": {
  "anaconda-cloud": {},
  "kernelspec": {
   "display_name": "Python 3",
   "language": "python",
   "name": "python3"
  },
  "language_info": {
   "codemirror_mode": {
    "name": "ipython",
    "version": 3
   },
   "file_extension": ".py",
   "mimetype": "text/x-python",
   "name": "python",
   "nbconvert_exporter": "python",
   "pygments_lexer": "ipython3",
   "version": "3.6.5"
  }
 },
 "nbformat": 4,
 "nbformat_minor": 1
}
