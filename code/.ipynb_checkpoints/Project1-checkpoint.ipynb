{
 "cells": [
  {
   "cell_type": "markdown",
   "metadata": {},
   "source": [
    "# <span style='color:#f67088'>GA Data Science Immersive : Project 1</span>\n",
    "<span style='color:#f67088'><a href=\"http://gwyneth.butera.org\">Gwyneth Butera</a></span>\n",
    "\n",
    "<span style='color:#ce8f31'>**Prjoject description:**<br>\n",
    "For our first project, we're going to take a look at SAT and ACT scores around the United States. Suppose that the College Board - the organization that administers the SAT - seeks to improve the participation rate of its exams. Your presentation should be geared toward **non-technical** executives with the College Board and you will use, at minimum, the provided data to make recommendations about how the College Board might work to increase the participation rates of these exams.</span>\n"
   ]
  },
  {
   "cell_type": "markdown",
   "metadata": {},
   "source": [
    "### <span style='color:#32b165'>Table of contents</span>\n",
    "* <a href=\"#step1\"><span style='color:#35aca4'>Load the data and perform basic operations.</span></a>\n",
    "* <a href=\"#step2\"><span style='color:#35aca4'>Manipulate the dataframe.</span></a>\n",
    "* <a href=\"#step3\"><span style='color:#35aca4'>Visualize the data</span></a>\n",
    "* <a href=\"#step4\"><span style='color:#35aca4'>Descriptive and Inferential Statistics</span></a>"
   ]
  },
  {
   "cell_type": "markdown",
   "metadata": {},
   "source": [
    " <hr>\n",
    " <a name=\"step1\"></a>\n",
    " ## <span style='color:#32b165'>I. Load the data and perform basic operations.</span>"
   ]
  },
  {
   "cell_type": "code",
   "execution_count": null,
   "metadata": {},
   "outputs": [],
   "source": [
    "# Let's get all our helper libraries loaded first\n",
    "\n",
    "import numpy as np\n",
    "import scipy.stats as stats\n",
    "import seaborn as sns\n",
    "import matplotlib.pyplot as plt\n",
    "import pandas as pd\n",
    "import warnings\n",
    "warnings.filterwarnings('ignore')\n",
    "sns.set_style(\"whitegrid\", {'axes.grid' : False})\n",
    "\n",
    "# %config InlineBackend.figure_format = 'retina'\n",
    "%matplotlib inline"
   ]
  },
  {
   "cell_type": "markdown",
   "metadata": {},
   "source": [
    "##### <span style='color:#35aca4'>A. Load the data in using pandas.</span>\n",
    "\n",
    "<span style='color:#38a7d0'>We load the SAT and ACT data into two dataframes. We also load in state-by-state enrollment data scraped from \"governing.com\":<a href=\"http://www.governing.com/topics/education/gov-fragmented-school-districts-consolidation.html\">governing.com</a>.</span>"
   ]
  },
  {
   "cell_type": "code",
   "execution_count": null,
   "metadata": {},
   "outputs": [],
   "source": [
    "# Read the data into DataFrames\n",
    "sat = pd.read_csv(\"../data/sat.csv\")\n",
    "act = pd.read_csv(\"../data/act.csv\")\n",
    "\n",
    "# Enrollment data was scraped from \n",
    "# http://www.governing.com/topics/education/gov-fragmented-school-districts-consolidation.html\n",
    "enroll = pd.read_csv(\"../data/enrollment.csv\")"
   ]
  },
  {
   "cell_type": "markdown",
   "metadata": {},
   "source": [
    "##### <span style='color:#35aca4'>B. Print the first few rows of each dataframe.</span>"
   ]
  },
  {
   "cell_type": "code",
   "execution_count": null,
   "metadata": {},
   "outputs": [],
   "source": [
    "sat.head(3)"
   ]
  },
  {
   "cell_type": "code",
   "execution_count": null,
   "metadata": {},
   "outputs": [],
   "source": [
    "act.head(3)"
   ]
  },
  {
   "cell_type": "markdown",
   "metadata": {},
   "source": [
    "##### <span style='color:#35aca4'>C. Describe in words what each variable (column) is.</span>"
   ]
  },
  {
   "cell_type": "markdown",
   "metadata": {
    "collapsed": true
   },
   "source": [
    "<span style='color:#38a7d0'>**For the SAT:**</span>\n",
    "\n",
    "* <span style='color:#38a7d0'>**Unamed: 0** : An index column</span>\n",
    "* <span style='color:#38a7d0'>**State**: The state being considered</span>\n",
    "* <span style='color:#38a7d0'>**Participation**: Percentage of students that took the exam</span></span>\n",
    "* <span style='color:#38a7d0'>**Evidence-Based Reading and Writing**: Average score for EBRW section (200-800)</span>\n",
    "* <span style='color:#38a7d0'>**Math**: Average score for math section (200-800)</span>\n",
    "* <span style='color:#38a7d0'>**Total**: Average combined EBRW and math score</span>\n",
    "\n",
    "<span style='color:#38a7d0'>**For the ACT:**\n",
    "\n",
    "* <span style='color:#38a7d0'>**Unamed**: An index column</span>\n",
    "* <span style='color:#38a7d0'>**State**: The state being considered</span>\n",
    "* <span style='color:#38a7d0'>**Participation**: Percentage of students that participated</span>\n",
    "* <span style='color:#38a7d0'>**English**: Average score (1-36)</span>\n",
    "* <span style='color:#38a7d0'>**Math**: Average score (1-36)</span>\n",
    "* <span style='color:#38a7d0'>**Reading**: Average score (1-36)</span>\n",
    "* <span style='color:#38a7d0'>**Science**: Average score (1-36)</span>\n",
    "* <span style='color:#38a7d0'>**Composite**: Average of composite score, where composite score is the average of the four area scores, rounded up to the nearest whole number (1-36)</span></span>\n"
   ]
  },
  {
   "cell_type": "markdown",
   "metadata": {},
   "source": [
    "##### <span style='color:#35aca4'>D. Does the data look complete? Are there any obvious issues with the observations?</span>"
   ]
  },
  {
   "cell_type": "code",
   "execution_count": null,
   "metadata": {},
   "outputs": [],
   "source": [
    "# act.info\n",
    "print(\"There are {} NaNs in the dataframe.\".format(act.isnull().sum().sum()))\n",
    "act.describe()"
   ]
  },
  {
   "cell_type": "code",
   "execution_count": null,
   "metadata": {},
   "outputs": [],
   "source": [
    "sat.describe()\n",
    "print(\"There are {} NaNs in the dataframe.\".format(act.isnull().sum().sum()))"
   ]
  },
  {
   "cell_type": "markdown",
   "metadata": {},
   "source": [
    "<span style='color:#38a7d0'>The data looks complete as there are no missing (null) entries.</span> \n",
    "\n",
    "<span style='color:#38a7d0'>**However:**</span>\n",
    "   * <span style='color:#38a7d0'>the minimum of science on the ACT science is very low at 2.3.</span>\n",
    "   * <span style='color:#38a7d0'>the minimum of math for the SAT is too low at 52. (The lowest possible is 200.)</span>\n",
    "\n",
    "<span style='color:#38a7d0'>We will investigate these 'abnormal' values a little further along in the notebook.</span>"
   ]
  },
  {
   "cell_type": "markdown",
   "metadata": {},
   "source": [
    "##### <span style='color:#35aca4'>E. Are there any issues in the consistency of the data?</span>"
   ]
  },
  {
   "cell_type": "code",
   "execution_count": null,
   "metadata": {},
   "outputs": [],
   "source": [
    "# Check consistency of data\n",
    "\n",
    "# sat_sections = [\"Math\", \"Evidence-Based Reading and Writing\"]\n",
    "# act_sections = [\"Math\", \"English\", \"Reading\", \"Science\"]\n",
    "\n",
    "# SAT sections should add up to SAT total\n",
    "check_sat = abs(sat.Math + sat[\"Evidence-Based Reading and Writing\"] - sat.Total)\n",
    "for ix,val in check_sat.iteritems():\n",
    "    if val > 1:\n",
    "        print(\"State {} ({}): math+ebrw-Total = {}\".format(ix, sat.loc[ix,'State'], val)) \n",
    "\n",
    "# ACT sections should add up to add up to 4 times the ACT Composite\n",
    "check_act = abs(act.Math + act.English + act.Reading + act.Science - act.Composite*4)\n",
    "for ix,val in check_act.iteritems():\n",
    "    if val > 1:\n",
    "        print(\"State {} ({}): math + english + reading + science -4*Composite = {}\"\n",
    "              .format(ix, act.loc[ix,'State'], val)) \n",
    "        "
   ]
  },
  {
   "cell_type": "markdown",
   "metadata": {},
   "source": [
    "<span style='color:#38a7d0'>The scores for Maryland are inconsistent. We can change the incorrect scores to ensure the data is consistent..</span> "
   ]
  },
  {
   "cell_type": "code",
   "execution_count": null,
   "metadata": {},
   "outputs": [],
   "source": [
    "# Clean data by hand\n",
    "sat.loc[20, \"Math\"] = sat.Total[20] - sat.loc[20, \"Evidence-Based Reading and Writing\"]\n",
    "act.loc[21, \"Science\"] = act.Composite[21]*4 - act.Reading[21] - act.English[21] - act.Math[21]"
   ]
  },
  {
   "cell_type": "markdown",
   "metadata": {},
   "source": [
    "##### <span style='color:#35aca4'>F. Print the types of each column.</span>"
   ]
  },
  {
   "cell_type": "code",
   "execution_count": null,
   "metadata": {
    "scrolled": true
   },
   "outputs": [],
   "source": [
    "# ACT column types\n",
    "print(\"ACT column types:\")\n",
    "act.dtypes"
   ]
  },
  {
   "cell_type": "code",
   "execution_count": null,
   "metadata": {},
   "outputs": [],
   "source": [
    "# SAT column types\n",
    "print(\"SAT column types:\")\n",
    "sat.dtypes"
   ]
  },
  {
   "cell_type": "markdown",
   "metadata": {},
   "source": [
    "##### <span style='color:#35aca4'>F. Do any types need to be reassigned? If so, go ahead and do it.</span>\n",
    "<span style='color:#38a7d0'>**We can do some cleaning:**</span> \n",
    "* <span style='color:#38a7d0'>Drop the <span style=\"font-family:monospace\">Unnamed: 0</span> columns from SAT and ACT.</span>\n",
    "* <span style='color:#38a7d0'>Keep only the <span style=\"font-family:monospace\">State</span> and <span style=\"font-family:monospace\">Enroll</span> columns in the enrollment dataframe.</span>\n",
    "* <span style='color:#38a7d0'>Remove the <span style=\"font-family:monospace\">National</span> row from the ACT dataframe.</span>\n",
    "* <span style='color:#38a7d0'>Set <span style=\"font-family:monospace\">State</span> as the index in both testing dataframes.</span>\n",
    "* <span style='color:#38a7d0'>Change the participation rate to a floating point value in both testing dataframes.</span>\n",
    "* <span style='color:#38a7d0'>Adjust the enrollment to be 1/13 of the total K-12 enrollment of each state.</span>\n",
    "\n",
    "<span style='color:#38a7d0'>**Ideas for improvement:**</span>\n",
    "* <span style='color:#38a7d0'>Change Participation from out of 100 to be out of 1.0 (divide by 100).</span>"
   ]
  },
  {
   "cell_type": "code",
   "execution_count": null,
   "metadata": {},
   "outputs": [],
   "source": [
    "# Remove the unamed columns from both and the national from act\n",
    "sat.drop('Unnamed: 0', axis=1, inplace=True)\n",
    "act.drop('Unnamed: 0', axis=1, inplace=True)\n",
    "\n",
    "# Only keep columns we need\n",
    "enroll = enroll[['State','Enroll']]\n",
    "\n",
    "# Change the row index to be state\n",
    "sat.set_index(\"State\", inplace=True)\n",
    "act.set_index(\"State\", inplace=True)\n",
    "enroll.set_index(\"State\", inplace=True)\n",
    "\n",
    "# Save the national row just in case\n",
    "act_national = act.loc[\"National\",:]\n",
    "act.drop('National', axis=0, inplace=True)\n",
    "\n",
    "\n",
    "# Change participation of SAT, ACT to be a float\n",
    "sat['Participation'] = sat['Participation'].map(lambda cell: cell.replace('%',''))\n",
    "act['Participation'] = act['Participation'].map(lambda cell: cell.replace('%',''))\n",
    "\n",
    "sat['Participation'] = sat['Participation'].astype(float)\n",
    "act['Participation'] = act['Participation'].astype(float)\n",
    "\n",
    "enroll['Enroll'] = enroll['Enroll'].map(lambda cell: cell.replace(',',''))\n",
    "enroll['Enroll'] = enroll['Enroll'].astype(float)\n",
    "\n",
    "# Approximation of number of seniors\n",
    "enroll['Enroll'] = enroll['Enroll']/13"
   ]
  },
  {
   "cell_type": "markdown",
   "metadata": {},
   "source": [
    "##### <span style='color:#35aca4'>G. Merge the dataframes on the state column.</span>"
   ]
  },
  {
   "cell_type": "code",
   "execution_count": null,
   "metadata": {},
   "outputs": [],
   "source": [
    "# Merge the data on the state column\n",
    "df = pd.merge(sat, act, on='State')\n",
    "df = pd.merge(df,enroll, on='State')"
   ]
  },
  {
   "cell_type": "markdown",
   "metadata": {},
   "source": [
    "##### <span style='color:#35aca4'>H. Change the names of the columns so you can distinguish between the SAT columns and the ACT columns.</span>"
   ]
  },
  {
   "cell_type": "code",
   "execution_count": null,
   "metadata": {},
   "outputs": [],
   "source": [
    "# Rename the columns \n",
    "df = df.rename(columns={\n",
    "    'Participation_x': 'Participation_SAT', \n",
    "    'Evidence-Based Reading and Writing' : \"EBRW_SAT\",\n",
    "    'Math_x' : 'Math_SAT',\n",
    "    'Total' : 'Total_SAT',\n",
    "    'Math_y' : 'Math_ACT',\n",
    "    'English' : 'English_ACT',\n",
    "    'Reading' : 'Reading_ACT',\n",
    "    'Science' : 'Science_ACT',\n",
    "    'Composite' : 'Composite_ACT',\n",
    "    'Participation_y': 'Participation_ACT'\n",
    "})"
   ]
  },
  {
   "cell_type": "markdown",
   "metadata": {},
   "source": [
    "##### <span style='color:#35aca4'>I. Approximate the the number of students taking each test in each state.</span>"
   ]
  },
  {
   "cell_type": "code",
   "execution_count": null,
   "metadata": {},
   "outputs": [],
   "source": [
    "# Approximate number students taking test\n",
    "df['Participation_SAT_count'] = df.Enroll * df.Participation_SAT /100\n",
    "df['Participation_ACT_count'] = df.Enroll * df.Participation_ACT /100"
   ]
  },
  {
   "cell_type": "markdown",
   "metadata": {},
   "source": [
    "##### <span style='color:#35aca4'>J. Print the minimum and maximum of each numeric column in the data frame.</span>"
   ]
  },
  {
   "cell_type": "code",
   "execution_count": null,
   "metadata": {},
   "outputs": [],
   "source": [
    "for c in df.columns:\n",
    "    print(\"The min and max of column {} is {} and {}.\".format(c,df[c].min(), df[c].max())) "
   ]
  },
  {
   "cell_type": "markdown",
   "metadata": {},
   "source": [
    "##### <span style='color:#35aca4'>K. Write a function using only list comprehensions, no loops, to compute standard deviation. Using this function, calculate the standard deviation of each numeric column in both data sets. Add these to a list called <span style=\"font-family:monospace\">sd</span>.</span>\n",
    "\n",
    "<span style='color:#35aca4'>$$\\sigma = \\sqrt{\\frac{1}{n}\\sum_{i=1}^n(x_i - \\mu)^2}$$</span>\n",
    "\n",
    " ##### <span style='color:#35aca4'>Turn the list <span style=\"font-family:monospace\">sd</span> into a new observation in your dataset.</span>"
   ]
  },
  {
   "cell_type": "code",
   "execution_count": null,
   "metadata": {},
   "outputs": [],
   "source": [
    "# Function to calculate standard deviation\n",
    "def my_std(values):\n",
    "    mu = np.mean(values)\n",
    "    return np.sqrt(sum([(v-mu)**2 for v in values])/len(values))\n",
    "\n",
    "sd = df.apply(lambda x: my_std(x))"
   ]
  },
  {
   "cell_type": "markdown",
   "metadata": {},
   "source": [
    "<hr>\n",
    " <a name=\"step2\"></a>\n",
    "## <span style='color:#32b165'>II. Manipulate the dataframe</span>"
   ]
  },
  {
   "cell_type": "markdown",
   "metadata": {},
   "source": [
    "##### <span style='color:#35aca4'>A. Sort the dataframe by the values in a numeric column (e.g. observations descending by SAT participation rate)</span>"
   ]
  },
  {
   "cell_type": "code",
   "execution_count": null,
   "metadata": {},
   "outputs": [],
   "source": [
    "# Sort DataFrame \n",
    "df = df.sort_values(by=\"Participation_SAT\", ascending=False)\n",
    "df.head()"
   ]
  },
  {
   "cell_type": "code",
   "execution_count": null,
   "metadata": {},
   "outputs": [],
   "source": [
    "# Sort DataFrame \n",
    "df = df.sort_values(by=\"Participation_ACT\", ascending=False)\n",
    "# df.head(18)\n",
    "df.head()"
   ]
  },
  {
   "cell_type": "code",
   "execution_count": null,
   "metadata": {},
   "outputs": [],
   "source": [
    "# Sort DataFrame \n",
    "columns = [\"Enroll\", \"Participation_SAT\", \"Participation_ACT\", \"Participation_SAT_count\", \"Participation_ACT_count\"]\n",
    "df_enroll = pd.DataFrame(df, columns=columns)\n",
    "df_enroll = df_enroll.sort_values(by=\"Enroll\", ascending=False)\n",
    "df_enroll.head(15)\n"
   ]
  },
  {
   "cell_type": "code",
   "execution_count": null,
   "metadata": {},
   "outputs": [],
   "source": [
    "print(\"Approximate participation counts:\") \n",
    "print(\"ACT: {}\".format(int(df.Participation_ACT_count.sum())))\n",
    "print(\"SAT: {}\".format(int(df.Participation_SAT_count.sum())))"
   ]
  },
  {
   "cell_type": "markdown",
   "metadata": {},
   "source": [
    "### <span style='color:#38a7d0'>Observations:</span>\n",
    "* <span style='color:#38a7d0'>Four states have 100% Participation in the SAT.</a>\n",
    "* <span style='color:#38a7d0'>Seventeen states have 100% Participation in the ACT.</a>\n",
    "* <span style='color:#38a7d0'>There are large states where neither has 100% participation.</a>"
   ]
  },
  {
   "cell_type": "markdown",
   "metadata": {},
   "source": [
    "##### <span style='color:#35aca4'>B. Use a boolean filter to display only observations with a score above a certain threshold (e.g. only states with a participation rate above 50%)</span>"
   ]
  },
  {
   "cell_type": "code",
   "execution_count": null,
   "metadata": {},
   "outputs": [],
   "source": [
    "df[df[\"Participation_SAT\"] > 70]"
   ]
  },
  {
   "cell_type": "markdown",
   "metadata": {},
   "source": [
    "<hr>\n",
    " <a name=\"step3\"></a>\n",
    "## <span style='color:#32b165'>III. Visualize the data</span>"
   ]
  },
  {
   "cell_type": "markdown",
   "metadata": {
    "collapsed": true
   },
   "source": [
    "##### <span style='color:#35aca4'>A. Using MatPlotLib and PyPlot, plot the distribution of the Rate columns for both SAT and ACT using histograms. (You should have two histograms. You might find [this link](https://matplotlib.org/users/pyplot_tutorial.html#working-with-multiple-figures-and-axes) helpful in organizing one plot above the other.) </span>"
   ]
  },
  {
   "cell_type": "code",
   "execution_count": null,
   "metadata": {},
   "outputs": [],
   "source": [
    "sat_color = \"#32b165\"\n",
    "act_color = \"#a38cf4\"\n",
    "reg_color = '#f67088'\n",
    "reg2_color = '#96a331'\n",
    "\n",
    "# Set up the matplotlib figure\n",
    "f, axes = plt.subplots(ncols=2, figsize=(15, 5))\n",
    "sns.despine(left=True)\n",
    "plt.subplots_adjust(hspace = .5)\n",
    "\n",
    "ax=axes[0]\n",
    "ax.set_title('SAT participation rates')\n",
    "sns.distplot(df.Participation_SAT, bins=10, color=sat_color,kde=False, ax=ax)\n",
    "#, hist_kws={\"color\": current_palette})\n",
    "ax.set_xlabel('Participation Rates')    \n",
    "ax.set_ylabel('Number of states');\n",
    "\n",
    "ax=axes[1]\n",
    "ax.set_title('ACT participation rates')\n",
    "sns.distplot(df.Participation_ACT, bins=10, color=act_color, kde=False, ax=ax)\n",
    "#, hist_kws={\"color\": current_palette})\n",
    "ax.set_xlabel('Participation Rates')    \n",
    "ax.set_ylabel('Number of states');\n"
   ]
  },
  {
   "cell_type": "markdown",
   "metadata": {},
   "source": [
    "##### <span style='color:#35aca4'>B. Plot the Math(s) distributions from both data sets.</span>"
   ]
  },
  {
   "cell_type": "code",
   "execution_count": null,
   "metadata": {},
   "outputs": [],
   "source": [
    "# Set up the matplotlib figure\n",
    "f, axes = plt.subplots(2,2 , figsize=(15, 10))\n",
    "sns.despine(left=True)\n",
    "plt.subplots_adjust(hspace = .5)\n",
    "\n",
    "ax=axes[0,0]\n",
    "ax.set_title('Math SAT scores')\n",
    "sns.distplot(df.Math_SAT, bins=10, color=sat_color,kde=False, ax=ax)\n",
    "ax.set_xlabel('Math Scores');\n",
    "\n",
    "ax=axes[0,1]\n",
    "ax.set_title('Math ACT scores')\n",
    "sns.distplot(df.Math_ACT, bins=10, color=act_color,kde=False, ax=ax)\n",
    "ax.set_xlabel('Math Scores');\n",
    "\n",
    "ax=axes[1,0]\n",
    "ax.set_title('Science ACT scores')\n",
    "sns.distplot(df.Science_ACT, bins=10, color=act_color,kde=False, ax=ax)\n",
    "ax.set_xlabel('Science Scores');\n",
    "\n",
    "ax=axes[1,1]\n",
    "ax.set_visible(False)"
   ]
  },
  {
   "cell_type": "markdown",
   "metadata": {},
   "source": [
    "##### <span style='color:#35aca4'>C. Plot the Verbal distributions from both data sets.</span>"
   ]
  },
  {
   "cell_type": "code",
   "execution_count": null,
   "metadata": {},
   "outputs": [],
   "source": [
    "# Set up the matplotlib figure\n",
    "f, axes = plt.subplots(2,2, figsize=(15, 10))\n",
    "sns.despine(left=True)\n",
    "plt.subplots_adjust(hspace = .5)\n",
    "\n",
    "ax=axes[0,0]\n",
    "ax.set_title('EBRW SAT scores');\n",
    "sns.distplot(df.EBRW_SAT, bins=20, color=sat_color, kde=False, ax=ax);\n",
    "ax.set_xlabel('EBRW SAT Scores');\n",
    "\n",
    "ax=axes[0,1]\n",
    "ax.set_title('English ACT scores')\n",
    "sns.distplot(df.English_ACT, bins=10, color=act_color,kde=False, ax=ax)\n",
    "ax.set_xlabel('English ACT Scores');\n",
    "\n",
    "ax=axes[1,0]\n",
    "ax.set_title('Reading ACT scores');\n",
    "sns.distplot(df.Reading_ACT, bins=20, color=act_color, kde=False, ax=ax);\n",
    "ax.set_xlabel('Reading ACT scores');\n",
    "\n",
    "ax=axes[1,1]\n",
    "ax.set_visible(False)"
   ]
  },
  {
   "cell_type": "code",
   "execution_count": null,
   "metadata": {},
   "outputs": [],
   "source": [
    "# Set up the matplotlib figure\n",
    "f, axes = plt.subplots(ncols=2, figsize=(15, 5))\n",
    "sns.despine(left=True)\n",
    "plt.subplots_adjust(hspace = .5)\n",
    "\n",
    "ax=axes[0]\n",
    "ax.set_title('Total SAT scores')\n",
    "sns.distplot(df.Total_SAT, bins=10, color=sat_color, kde=False, ax=ax);\n",
    "ax.set_xlabel('Total Scores');\n",
    "\n",
    "ax=axes[1]\n",
    "ax.set_title('Composite ACT scores');\n",
    "sns.distplot(df.Composite_ACT, bins=10, color=act_color, kde=False, ax=ax);\n",
    "ax.set_xlabel('Composite Scores');"
   ]
  },
  {
   "cell_type": "markdown",
   "metadata": {},
   "source": [
    "##### <span style='color:#35aca4'>D. When we make assumptions about how data are distributed, what is the most common assumption? Does this assumption hold true for any of our columns? Which?</span>"
   ]
  },
  {
   "cell_type": "markdown",
   "metadata": {
    "collapsed": true
   },
   "source": [
    "<span style='color:#38a7d0'>The most common assumption is that the data is normally distributed. This somesn't seem to hold true for any of our columns.</span>"
   ]
  },
  {
   "cell_type": "markdown",
   "metadata": {},
   "source": [
    "##### <span style='color:#35aca4'>E. Plot some scatterplots examining relationships between all variables.</span>"
   ]
  },
  {
   "cell_type": "code",
   "execution_count": null,
   "metadata": {
    "scrolled": true
   },
   "outputs": [],
   "source": [
    "# Set up the matplotlib figure\n",
    "f, axes = plt.subplots(3,2, figsize=(15, 15))\n",
    "sns.despine(left=True)\n",
    "plt.subplots_adjust(hspace = .5)\n",
    "\n",
    "ax=axes[0,0]\n",
    "ax.set_title(\"Participation rates by state\");\n",
    "sns.regplot(x=\"Participation_SAT\", y=\"Participation_ACT\", data=df, color=reg_color, ax=ax)\n",
    "ax.set_xlabel(\"SAT\")\n",
    "ax.set_ylabel(\"ACT\")\n",
    "\n",
    "ax=axes[0,1]\n",
    "ax.set_title(\"Participation counts by state\");\n",
    "sns.regplot(x=\"Participation_SAT_count\", y=\"Participation_ACT_count\", data=df, color=reg2_color, ax=ax);\n",
    "ax.set_xlabel(\"SAT\")\n",
    "ax.set_ylabel(\"ACT\")\n",
    "\n",
    "ax=axes[1,0]\n",
    "ax.set_title(\"English score comparison for SAT vs ACT\");\n",
    "ax.scatter(df.EBRW_SAT, df.English_ACT, color=reg_color)\n",
    "ax.scatter(df.EBRW_SAT, df.Reading_ACT, color=reg2_color)\n",
    "ax.set_xlabel(\"SAT EBRW\")\n",
    "ax.set_ylabel(\"ACT English and Reading\")\n",
    "ax.legend()\n",
    "\n",
    "ax=axes[1,1]\n",
    "ax.set_title(\"Math score comparison for each state\");\n",
    "ax.scatter(df.Math_SAT, df.Math_ACT, color=reg_color)\n",
    "ax.scatter(df.Math_SAT, df.Science_ACT, color=reg2_color)\n",
    "ax.set_xlabel(\"SAT Math\")\n",
    "ax.set_ylabel(\"ACT Math and ScienceT\");\n",
    "ax.legend()\n",
    "\n",
    "ax=axes[2,0]\n",
    "ax.set_title(\"Overall score comparison by state\");\n",
    "ax.scatter(df.Total_SAT, df.Composite_ACT, color=reg_color)\n",
    "ax.set_xlabel(\"Total SAT\")\n",
    "ax.set_ylabel(\"Composite ACT\")\n",
    "ax.legend()\n",
    "\n",
    "ax=axes[2,1]\n",
    "ax.set_visible(False)\n"
   ]
  },
  {
   "cell_type": "code",
   "execution_count": null,
   "metadata": {},
   "outputs": [],
   "source": [
    "# Set up the matplotlib figure\n",
    "f, axes = plt.subplots(ncols=2, figsize=(15, 5))\n",
    "sns.despine(left=True)\n",
    "plt.subplots_adjust(hspace = .5)\n",
    "\n",
    "ax=axes[0]\n",
    "ax.set_title('SAT score comparisions')\n",
    "ax.scatter(df.Total_SAT, df.EBRW_SAT, color=reg_color);\n",
    "ax.scatter(df.Total_SAT, df.Math_SAT, color=reg2_color)\n",
    "ax.set_xlabel('Total SAT');\n",
    "ax.set_ylabel(\"Section scores\")\n",
    "ax.legend()\n",
    "\n",
    "ax=axes[1]\n",
    "ax.set_title('ACT score comparision');\n",
    "ax.scatter(df.Composite_ACT, df.English_ACT, color=sat_color);\n",
    "ax.scatter(df.Composite_ACT, df.Math_ACT, color=act_color)\n",
    "ax.scatter(df.Composite_ACT, df.Science_ACT, color=reg_color)\n",
    "ax.scatter(df.Composite_ACT, df.Reading_ACT, color=reg2_color)\n",
    "ax.set_xlabel('Composite ACT');\n",
    "ax.legend();\n"
   ]
  },
  {
   "cell_type": "code",
   "execution_count": null,
   "metadata": {},
   "outputs": [],
   "source": [
    "\n",
    "# Set up the matplotlib figure\n",
    "f, axes = plt.subplots(ncols=2, figsize=(15, 5))\n",
    "sns.despine(left=True)\n",
    "plt.subplots_adjust(hspace = .5)\n",
    "\n",
    "ax=axes[0]\n",
    "ax.set_title('SAT total score to participation rates');\n",
    "sns.regplot(x=\"Participation_SAT\", y=\"Total_SAT\", data=df, color=sat_color, scatter=True, ax=ax)\n",
    "ax.set_xlabel('Participation rate')\n",
    "ax.set_ylabel(\"Total SAT scores\")\n",
    "\n",
    "ax=axes[1]\n",
    "ax.set_title(\"ACT composite to participation rates\")\n",
    "sns.regplot(x=\"Participation_ACT\", y=\"Composite_ACT\", data=df, color=act_color, scatter=True, ax=ax)\n",
    "ax.set_xlabel(\"Participation rate\")\n",
    "ax.set_ylabel(\"Composite ACT scores\");\n"
   ]
  },
  {
   "cell_type": "code",
   "execution_count": null,
   "metadata": {
    "scrolled": true
   },
   "outputs": [],
   "source": [
    "# While fun, this doens't add much to our observations\n",
    "# sns.pairplot(df);"
   ]
  },
  {
   "cell_type": "markdown",
   "metadata": {},
   "source": [
    "##### <span style='color:#35aca4'>F. Are there any interesting relationships to note?</span>"
   ]
  },
  {
   "cell_type": "markdown",
   "metadata": {
    "collapsed": true
   },
   "source": [
    "* <span style='color:#38a7d0'>The states with higher participation rates have lower average scores.</span>\n",
    "* <span style='color:#38a7d0'>Participation rates of the two tests are inversely correlated.</span> \n",
    "* <span style='color:#38a7d0'>Additionaly, the scores on the sections of the SAT are positively correlated with the total score (not surprising).</span>\n",
    "\n",
    "* <span style='color:#38a7d0'>While I added approximate enrollment data, I did not have time to fully explore relationships between enrollment and the other data.</span>"
   ]
  },
  {
   "cell_type": "markdown",
   "metadata": {},
   "source": [
    "##### <span style='color:#35aca4'>G. Create box plots for each variable.</span>"
   ]
  },
  {
   "cell_type": "code",
   "execution_count": null,
   "metadata": {
    "scrolled": true
   },
   "outputs": [],
   "source": [
    "ACT_scores = [\"Math_ACT\", \"English_ACT\", \"Reading_ACT\", \"Science_ACT\", \"Composite_ACT\"]\n",
    "SAT_scores = [\"Math_SAT\", \"EBRW_SAT\"]\n",
    "participation_rates = [\"Participation_SAT\", \"Participation_ACT\"]\n",
    "\n",
    "# Set up the matplotlib figure\n",
    "f, axes = plt.subplots(ncols=2, figsize=(15, 5))\n",
    "sns.despine(left=True)\n",
    "plt.subplots_adjust(hspace = .5)\n",
    "\n",
    "ax=axes[0]\n",
    "ax.set_title(\"SAT Scores\")\n",
    "df.boxplot(SAT_scores, ax=ax)\n",
    "\n",
    "ax=axes[1]\n",
    "ax.set_title(\"ACT Scores\")\n",
    "df.boxplot(ACT_scores, ax=ax);"
   ]
  },
  {
   "cell_type": "code",
   "execution_count": null,
   "metadata": {},
   "outputs": [],
   "source": [
    "# Compare participation rates\n",
    "plt.title(\"participation_rates\")\n",
    "df.boxplot(participation_rates);"
   ]
  },
  {
   "cell_type": "markdown",
   "metadata": {},
   "source": [
    "##### <span style='color:#35aca4'>H. Create a US heat map for participation rates by state.</span>"
   ]
  },
  {
   "cell_type": "code",
   "execution_count": null,
   "metadata": {},
   "outputs": [],
   "source": [
    "# Modified from example code from plotly\n",
    "\n",
    "import plotly\n",
    "import plotly.plotly as py\n",
    "import pandas as pd\n",
    "\n",
    "plotly.tools.set_credentials_file(username='gbkgwyneth', api_key='NS01qFBPZLMjc5Kb6AEa')\n",
    "\n",
    "scl = [[0.0, 'rgb(147, 208, 191)'],[0.2, 'rgb(114, 191, 196)'],[0.4, 'rgb(82, 174, 201)'],\\\n",
    "             [0.6, 'rgb(64, 149, 181)'],[0.8, 'rgb(59, 116, 138)'],[1.0, 'rgb(55, 83, 94)']]\n",
    "\n",
    "# From Stack Overflow\n",
    "# https://stackoverflow.com/questions/48979352/choropleth-map-in-python-using-plotly-without-state-codes\n",
    "state_codes = {\n",
    "    'District of Columbia' : 'DC','Mississippi': 'MS', 'Oklahoma': 'OK', \n",
    "    'Delaware': 'DE', 'Minnesota': 'MN', 'Illinois': 'IL', 'Arkansas': 'AR', \n",
    "    'New Mexico': 'NM', 'Indiana': 'IN', 'Maryland': 'MD', 'Louisiana': 'LA', \n",
    "    'Idaho': 'ID', 'Wyoming': 'WY', 'Tennessee': 'TN', 'Arizona': 'AZ', \n",
    "    'Iowa': 'IA', 'Michigan': 'MI', 'Kansas': 'KS', 'Utah': 'UT', \n",
    "    'Virginia': 'VA', 'Oregon': 'OR', 'Connecticut': 'CT', 'Montana': 'MT', \n",
    "    'California': 'CA', 'Massachusetts': 'MA', 'West Virginia': 'WV', \n",
    "    'South Carolina': 'SC', 'New Hampshire': 'NH', 'Wisconsin': 'WI',\n",
    "    'Vermont': 'VT', 'Georgia': 'GA', 'North Dakota': 'ND', \n",
    "    'Pennsylvania': 'PA', 'Florida': 'FL', 'Alaska': 'AK', 'Kentucky': 'KY', \n",
    "    'Hawaii': 'HI', 'Nebraska': 'NE', 'Missouri': 'MO', 'Ohio': 'OH', \n",
    "    'Alabama': 'AL', 'Rhode Island': 'RI', 'South Dakota': 'SD', \n",
    "    'Colorado': 'CO', 'New Jersey': 'NJ', 'Washington': 'WA', \n",
    "    'North Carolina': 'NC', 'New York': 'NY', 'Texas': 'TX', \n",
    "    'Nevada': 'NV', 'Maine': 'ME'}\n",
    "\n",
    "state_df = pd.DataFrame.from_dict(state_codes, orient='index')\n",
    "\n",
    "state_df.rename(columns={ 0:'Code'}, inplace=True)\n",
    "df_heat = pd.concat([df,state_df], axis=1)\n",
    "for col in df_heat.columns:\n",
    "     df_heat[col] = df_heat[col].astype(str)\n",
    "\n",
    "def heatmap(df, col, title, scl):\n",
    "    data = [ dict(\n",
    "             type='choropleth',\n",
    "             colorscale = scl,\n",
    "             autocolorscale = False,\n",
    "             locations = df['Code'],\n",
    "             z = df[col].astype(float),\n",
    "             locationmode = 'USA-states',\n",
    "             text = df['Code'],\n",
    "             marker = dict(\n",
    "                line = dict (\n",
    "                    color = 'rgb(255,255,255)',\n",
    "                    width = 2\n",
    "                ) ),\n",
    "            colorbar = dict(\n",
    "                title = \"Rate\")\n",
    "            ) ]\n",
    "\n",
    "    layout = dict(\n",
    "            title = title,\n",
    "            geo = dict(\n",
    "                scope='usa',\n",
    "                projection=dict( type='albers usa' ),\n",
    "                showlakes = True,\n",
    "                lakecolor = 'rgb(255, 255, 255)'),\n",
    "                 )\n",
    "\n",
    "    fig = dict( data=data, layout=layout )\n",
    "    \n",
    "    return fig"
   ]
  },
  {
   "cell_type": "markdown",
   "metadata": {},
   "source": [
    "##### <span style='color:#35aca4'>SAT Participation Rate by State</span>"
   ]
  },
  {
   "cell_type": "code",
   "execution_count": null,
   "metadata": {},
   "outputs": [],
   "source": [
    "fig = heatmap(df_heat,\"Participation_SAT\", 'SAT Participation Rate by State', scl)\n",
    "py.iplot( fig, filename='d3-cloropleth-map' )"
   ]
  },
  {
   "cell_type": "markdown",
   "metadata": {},
   "source": [
    "##### <span style='color:#35aca4'>ACT Participation Rate by State</span>"
   ]
  },
  {
   "cell_type": "code",
   "execution_count": null,
   "metadata": {},
   "outputs": [],
   "source": [
    "fig = heatmap(df_heat,\"Participation_ACT\", 'ACT Participation Rate by State', scl)\n",
    "py.iplot( fig, filename='d3-cloropleth-map' )"
   ]
  },
  {
   "cell_type": "markdown",
   "metadata": {},
   "source": [
    "##### <span style='color:#35aca4'>SAT Participation Count by State</span>"
   ]
  },
  {
   "cell_type": "code",
   "execution_count": null,
   "metadata": {},
   "outputs": [],
   "source": [
    "fig = heatmap(df_heat,\"Participation_SAT_count\", 'SAT Participation Count by State', scl)\n",
    "py.iplot( fig, filename='d3-cloropleth-map' )"
   ]
  },
  {
   "cell_type": "markdown",
   "metadata": {},
   "source": [
    "##### <span style='color:#35aca4'>ACT Participation Count by State</span>"
   ]
  },
  {
   "cell_type": "code",
   "execution_count": null,
   "metadata": {},
   "outputs": [],
   "source": [
    "fig = heatmap(df_heat,\"Participation_ACT_count\", 'ACT Participation Count by State', scl)\n",
    "py.iplot( fig, filename='d3-cloropleth-map' )"
   ]
  },
  {
   "cell_type": "markdown",
   "metadata": {},
   "source": [
    "##### <span style='color:#35aca4'>Enrollment by State</span>"
   ]
  },
  {
   "cell_type": "code",
   "execution_count": null,
   "metadata": {},
   "outputs": [],
   "source": [
    "fig = heatmap(df_heat,\"Enroll\", 'Enrollment by State', scl)\n",
    "py.iplot( fig, filename='d3-cloropleth-map' )"
   ]
  },
  {
   "cell_type": "markdown",
   "metadata": {},
   "source": [
    "<span style='color:#f67088'>**New Hampshire and Vermot did not provide data, so they are colored with black.**</span>"
   ]
  },
  {
   "cell_type": "markdown",
   "metadata": {},
   "source": [
    "<hr>\n",
    " <a name=\"step4\"></a>\n",
    "## <span style='color:#32b165'>IV. Descriptive and Inferential Statistics</span>"
   ]
  },
  {
   "cell_type": "markdown",
   "metadata": {},
   "source": [
    "##### <span style='color:#35aca4'>A. Summarize each distribution. As data scientists, be sure to back up these summaries with statistics. (Hint: What are the three things we care about when describing distributions?)</span>"
   ]
  },
  {
   "cell_type": "code",
   "execution_count": null,
   "metadata": {},
   "outputs": [],
   "source": [
    "# The center, the shape, and the spread.\n",
    "mu=pd.Series(df.mean(), name=\"Mean\")\n",
    "std = pd.Series(df.std(), name=\"Std Dev\")\n",
    "pd.concat([mu,std], axis=1)"
   ]
  },
  {
   "cell_type": "markdown",
   "metadata": {},
   "source": [
    "<span style='color:#38a7d0'>The distributions of the scores and participation rates are not normal and not close to uniform. I would like to have more data.</span>"
   ]
  },
  {
   "cell_type": "markdown",
   "metadata": {},
   "source": [
    "##### <span style='color:#35aca4'>B. Summarize each relationship. Be sure to back up these summaries with statistics.</span>"
   ]
  },
  {
   "cell_type": "markdown",
   "metadata": {
    "collapsed": true
   },
   "source": [
    "<span style='color:#38a7d0'>There is an inverse relationship between participation rates of the two tests. Also, average section scores on the tests are related to the average overall scores by state.</span>"
   ]
  },
  {
   "cell_type": "markdown",
   "metadata": {},
   "source": [
    "##### <span style='color:#35aca4'>C. Execute a hypothesis test comparing the SAT and ACT participation rates. Use $\\alpha = 0.05$. Be sure to interpret your results.</span>"
   ]
  },
  {
   "cell_type": "code",
   "execution_count": null,
   "metadata": {},
   "outputs": [],
   "source": [
    "t_stat, p_value = stats.ttest_ind(df.Participation_ACT,df.Participation_SAT)\n",
    "print(\"The t-statistic is {}.\".format(t_stat))\n",
    "print(\"The p-value is {}.\".format(p_value))"
   ]
  },
  {
   "cell_type": "markdown",
   "metadata": {},
   "source": [
    "##### <span style='color:#35aca4'>D. Plot the confidence interval</span>"
   ]
  },
  {
   "cell_type": "code",
   "execution_count": null,
   "metadata": {},
   "outputs": [],
   "source": [
    "# Plot the confidence interval\n",
    "\n",
    "# Taken from lecture notebook\n",
    "# Generate points on the x axis between -4 and 4:\n",
    "xpoints = np.linspace(-4, 4, 500)\n",
    "\n",
    "# Use `stats.t.pdf` to get values on the probability density function for the t-distribution.\n",
    "# The second argument is the degrees of freedom: n1 + n2 - 2.\n",
    "ypoints = stats.t.pdf(xpoints, \n",
    "                      len(df.Participation_ACT)+len(df.Participation_SAT) - 2,\n",
    "                      0, 1)\n",
    "\n",
    "# Initialize a `matplotlib` \"figure.\"\n",
    "fig = plt.figure(figsize=(8,5))\n",
    "\n",
    "# Get the current \"axis\" out of the figure.\n",
    "ax = fig.gca()\n",
    "\n",
    "# Plot the lines using `matplotlib`'s plot function:\n",
    "ax.plot(xpoints, ypoints, linewidth=3, color=reg2_color)\n",
    "\n",
    "# Plot a vertical line for our measured difference in rates' t-statistic.\n",
    "ax.axvline(t_stat, color=reg_color, linestyle='--', lw=5)\n",
    "ax.axvline(-t_stat, color=reg_color, linestyle='--', lw=5);"
   ]
  },
  {
   "cell_type": "markdown",
   "metadata": {},
   "source": [
    "<span style='color:#38a7d0'>Since the <span style=\"font-family:monospace\">p_vale</span> is small, we can reject the null hypothesis here. There is a correlation between the participation rates in the ACT and the SAT. In states where ACT participation is high, SAT participation is low.</span>"
   ]
  },
  {
   "cell_type": "markdown",
   "metadata": {},
   "source": [
    "##### <span style='color:#35aca4'>E. Generate and interpret 95% confidence intervals for SAT and ACT participation rates.</span>"
   ]
  },
  {
   "cell_type": "code",
   "execution_count": null,
   "metadata": {},
   "outputs": [],
   "source": [
    "n = df.shape[0]\n",
    "participation_act_mean = df['Participation_ACT'].mean()\n",
    "participation_act_std_error = df['Participation_ACT'].std()/np.sqrt(n)\n",
    "\n",
    "interval_act = stats.norm.interval(0.95, participation_act_mean, participation_act_std_error)\n",
    "print(\"The 95% confidence interval for the participation of the ACT is [{},{}].\".format(interval_act[0],interval_act[1]))"
   ]
  },
  {
   "cell_type": "code",
   "execution_count": null,
   "metadata": {},
   "outputs": [],
   "source": [
    "participation_sat_mean = df['Participation_SAT'].mean()\n",
    "participation_sat_std_error = df['Participation_SAT'].std()/np.sqrt(n)\n",
    "\n",
    "interval_sat = stats.norm.interval(0.95, participation_sat_mean, participation_sat_std_error)\n",
    "print(\"The 95% confidence interval for the participation rate of the SAT is [{},{}].\".format(interval_sat[0],interval_sat[1]))"
   ]
  },
  {
   "cell_type": "markdown",
   "metadata": {},
   "source": [
    "<span style='color:#38a7d0'>This is not good data to use since the populations of the states vary so greatly. Without including the enrollment data in the analysis, the test here lacks much meaning.</span>"
   ]
  },
  {
   "cell_type": "markdown",
   "metadata": {},
   "source": [
    "##### <span style='color:#35aca4'>F. Given your answer to 26, was your answer to 27 surprising? Why?</span>"
   ]
  },
  {
   "cell_type": "markdown",
   "metadata": {
    "collapsed": true
   },
   "source": [
    "<span style='color:#38a7d0'>I'm not sure what the confidence intervals for the state participation rates for the SAT and ACT reflect, beacuse the data is not normalized by population sizes.</span>"
   ]
  },
  {
   "cell_type": "markdown",
   "metadata": {},
   "source": [
    "##### <span style='color:#35aca4'>G. Is it appropriate to generate correlation between SAT and ACT math scores? Why?</span>"
   ]
  },
  {
   "cell_type": "code",
   "execution_count": null,
   "metadata": {},
   "outputs": [],
   "source": [
    "np.correlate(df.Participation_ACT, df.Participation_SAT)"
   ]
  },
  {
   "cell_type": "markdown",
   "metadata": {},
   "source": [
    "<span style='color:#38a7d0'>Did you say correlations? Let's make a heat map!</span>"
   ]
  },
  {
   "cell_type": "code",
   "execution_count": null,
   "metadata": {},
   "outputs": [],
   "source": [
    "# Heat map of colmns \n",
    "cols = ['Enroll','Participation_SAT','Participation_SAT_count','Participation_ACT','Participation_ACT_count','Total_SAT','Composite_ACT',]\n",
    "colors = sns.color_palette(\"GnBu_d\", 8)\n",
    "plt.figure(figsize=(10,10))\n",
    "sns.set_palette(colors)\n",
    "# sns.heatmap(df_train[top_corr].corr(),vmin=-1,vmax=1, cmap = colors);\n",
    "sns.heatmap(df[cols].corr(),vmin=-1,vmax=1, cmap = colors, annot=True);\n"
   ]
  },
  {
   "cell_type": "markdown",
   "metadata": {},
   "source": [
    "<span style='color:#38a7d0'>Maybe for states that have similar participation rates for both tests it would be appropriate to generate the correlation. But since states with high rates of participation have lower scores in general, it is probably not appropriate to compare in states where the participation rates are very different.</span>"
   ]
  },
  {
   "cell_type": "markdown",
   "metadata": {},
   "source": [
    "##### <span style='color:#35aca4'>H. Suppose we only seek to understand the relationship between SAT and ACT data in 2017. Does it make sense to conduct statistical inference given the data we have? Why?</span>"
   ]
  },
  {
   "cell_type": "markdown",
   "metadata": {
    "collapsed": true
   },
   "source": [
    "<span style='color:#38a7d0'>The samples are not random, so I think that statistical inference is not appropriate.</span>"
   ]
  },
  {
   "cell_type": "code",
   "execution_count": null,
   "metadata": {},
   "outputs": [],
   "source": [
    "# Setting up colors for the notebook\n",
    "sns.palplot(sns.color_palette(\"husl\", 8))\n",
    "colors = ['#f67088', '#ce8f31', '#96a331', '#32b165', '#35aca4', '#38a7d0', '#a38cf4', '#f461dd']"
   ]
  },
  {
   "cell_type": "code",
   "execution_count": null,
   "metadata": {},
   "outputs": [],
   "source": []
  }
 ],
 "metadata": {
  "anaconda-cloud": {},
  "kernelspec": {
   "display_name": "Python 3",
   "language": "python",
   "name": "python3"
  },
  "language_info": {
   "codemirror_mode": {
    "name": "ipython",
    "version": 3
   },
   "file_extension": ".py",
   "mimetype": "text/x-python",
   "name": "python",
   "nbconvert_exporter": "python",
   "pygments_lexer": "ipython3",
   "version": "3.6.5"
  }
 },
 "nbformat": 4,
 "nbformat_minor": 1
}
